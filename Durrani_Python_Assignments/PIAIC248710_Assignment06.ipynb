{
  "nbformat": 4,
  "nbformat_minor": 0,
  "metadata": {
    "colab": {
      "provenance": []
    },
    "kernelspec": {
      "name": "python3",
      "display_name": "Python 3"
    },
    "language_info": {
      "name": "python"
    }
  },
  "cells": [
    {
      "cell_type": "markdown",
      "source": [
        "**📝 Assignment 06: Data Types, Operators & Strings**"
      ],
      "metadata": {
        "id": "IJJIm_z2NKW3"
      }
    },
    {
      "cell_type": "markdown",
      "source": [
        "**Part A – Data Types & Type Casting**"
      ],
      "metadata": {
        "id": "4dleV6JINPW0"
      }
    },
    {
      "cell_type": "markdown",
      "source": [
        "1) Create variables of the following data types and print their values and types:\n",
        "\n",
        "Integer - Float - Complex number - Boolean - String - List - Tuple - Set - Dictionary"
      ],
      "metadata": {
        "id": "XIXAuGGoOX0n"
      }
    },
    {
      "cell_type": "code",
      "execution_count": null,
      "metadata": {
        "colab": {
          "base_uri": "https://localhost:8080/"
        },
        "id": "Th2mt47kNJXm",
        "outputId": "f0f2c96b-d2c4-420d-b3bb-720ff2baadb0"
      },
      "outputs": [
        {
          "output_type": "stream",
          "name": "stdout",
          "text": [
            "The type of number 19: <class 'int'>\n",
            "The type of number 6.19: <class 'float'>\n",
            "The type of (3+4j): <class 'complex'>\n",
            "The type of False: <class 'bool'>\n",
            "The type of Hussain: <class 'str'>\n",
            "The type of [2, 4, 6, 8, 10]: <class 'list'>\n",
            "The type of ('Hussain', 21, 72.5): <class 'tuple'>\n",
            "The type of {1, 2, 3, 4, 5}: <class 'set'>\n",
            "The type of {'Age': 19, 'Year': 2006, 'Salary': 100000}: <class 'dict'>\n"
          ]
        }
      ],
      "source": [
        "number: int = 19\n",
        "print(f\"The type of number {number}: {type(number)}\")\n",
        "\n",
        "fNum: float = 6.19\n",
        "print(f\"The type of number {fNum}: {type(fNum)}\")\n",
        "\n",
        "cmplxNum: complex = 3 + 4j\n",
        "print(f\"The type of {cmplxNum}: {type(cmplxNum)}\")\n",
        "\n",
        "isTrue: bool = False\n",
        "print(f\"The type of {isTrue}: {type(isTrue)}\")\n",
        "\n",
        "name: str = 'Hussain'\n",
        "print(f\"The type of {name}: {type(name)}\")\n",
        "\n",
        "nums: list[int] = [2, 4, 6, 8, 10]\n",
        "print(f\"The type of {nums}: {type(nums)}\")\n",
        "\n",
        "person: tuple[str, int, float] = (\"Hussain\", 21, 72.5)\n",
        "print(f\"The type of {person}: {type(person)}\")\n",
        "\n",
        "\n",
        "numbers: set[int] = {1, 2, 3, 4, 5}\n",
        "print(f\"The type of {numbers}: {type(numbers)}\")\n",
        "\n",
        "keyValues: dict[str, int] = {\"Age\": 19, \"Year\": 2006, \"Salary\": 100000}\n",
        "print(f\"The type of {keyValues}: {type(keyValues)}\")"
      ]
    },
    {
      "cell_type": "markdown",
      "source": [
        "2) Write a program that demonstrates implicit type casting:\n",
        "\n",
        ">Add an integer and a float\n",
        "\n",
        ">Add an integer and a complex number\n",
        "\n",
        ">Print the results and their types"
      ],
      "metadata": {
        "id": "ZHstJpG6RbXk"
      }
    },
    {
      "cell_type": "code",
      "source": [
        "# Add an integer and a float\n",
        "integer_num: int = 5\n",
        "float_num: float = 3.2\n",
        "result1 = integer_num + float_num\n",
        "\n",
        "print(\"Result of integer + float:\", result1)\n",
        "print(\"Type of result1:\", type(result1))\n",
        "\n",
        "# Add an integer and a complex number\n",
        "complex_num: complex = 2 + 3j\n",
        "result2 = integer_num + complex_num\n",
        "\n",
        "print(\"\\nResult of integer + complex:\", result2)\n",
        "print(\"Type of result2:\", type(result2))"
      ],
      "metadata": {
        "colab": {
          "base_uri": "https://localhost:8080/"
        },
        "id": "4n6e3sP6Rjl9",
        "outputId": "698d6f42-d347-4323-9e74-6e7ddcba5aa7"
      },
      "execution_count": null,
      "outputs": [
        {
          "output_type": "stream",
          "name": "stdout",
          "text": [
            "Result of integer + float: 8.2\n",
            "Type of result1: <class 'float'>\n",
            "\n",
            "Result of integer + complex: (7+3j)\n",
            "Type of result2: <class 'complex'>\n"
          ]
        }
      ]
    },
    {
      "cell_type": "markdown",
      "source": [
        "3) Create a program that demonstrates explicit type casting:\n",
        "\n",
        "> Convert a float to an integer (show truncation)\n",
        "\n",
        "> Convert a string \"123\" to an integer\n",
        "\n",
        "> Convert a string \"45.67\" to a float\n",
        "\n",
        "> Convert an integer to a string\n",
        "\n",
        "> Convert a boolean to an integer\n"
      ],
      "metadata": {
        "id": "OrnCtrv6cvea"
      }
    },
    {
      "cell_type": "code",
      "source": [
        "# Convert a float to an integer (shows truncation)\n",
        "float_num = 12.99\n",
        "int_num = int(float_num)\n",
        "print(\"Float to Integer:\", int_num)\n",
        "print(\"Type:\", type(int_num))\n",
        "\n",
        "# Convert a string \"123\" to an integer\n",
        "str_int = \"123\"\n",
        "converted_int = int(str_int)\n",
        "print(\"\\nString '123' to Integer:\", converted_int)\n",
        "print(\"Type:\", type(converted_int))\n",
        "\n",
        "# Convert a string \"45.67\" to a float\n",
        "str_float = \"45.67\"\n",
        "converted_float = float(str_float)\n",
        "print(\"\\nString '45.67' to Float:\", converted_float)\n",
        "print(\"Type:\", type(converted_float))\n",
        "\n",
        "# Convert an integer to a string\n",
        "num = 789\n",
        "str_num = str(num)\n",
        "print(\"\\nInteger to String:\", str_num)\n",
        "print(\"Type:\", type(str_num))\n",
        "\n",
        "# Convert a boolean to an integer\n",
        "bool_val = True\n",
        "int_bool = int(bool_val)\n",
        "print(\"\\nBoolean to Integer:\", int_bool)\n",
        "print(\"Type:\", type(int_bool))"
      ],
      "metadata": {
        "colab": {
          "base_uri": "https://localhost:8080/"
        },
        "id": "b5yQgnovc47l",
        "outputId": "a2062e51-99e3-45d6-b0c4-7b2b7d2c07fb"
      },
      "execution_count": null,
      "outputs": [
        {
          "output_type": "stream",
          "name": "stdout",
          "text": [
            "Float to Integer: 12\n",
            "Type: <class 'int'>\n",
            "\n",
            "String '123' to Integer: 123\n",
            "Type: <class 'int'>\n",
            "\n",
            "String '45.67' to Float: 45.67\n",
            "Type: <class 'float'>\n",
            "\n",
            "Integer to String: 789\n",
            "Type: <class 'str'>\n",
            "\n",
            "Boolean to Integer: 1\n",
            "Type: <class 'int'>\n"
          ]
        }
      ]
    },
    {
      "cell_type": "markdown",
      "source": [
        "4) Write a program that demonstrates the isinstance() function:\n",
        "\n",
        "> Check if a variable is an integer\n",
        "\n",
        "> Check if a variable is a float\n",
        "\n",
        "> Check if a variable is a string\n",
        "\n",
        "> Print the results"
      ],
      "metadata": {
        "id": "eHRAK0tCdPiN"
      }
    },
    {
      "cell_type": "code",
      "source": [
        "# Variables of different types\n",
        "num_int = 10\n",
        "num_float = 12.5\n",
        "text = \"Hello\"\n",
        "\n",
        "# Check if a variable is an integer\n",
        "print(\"Is num_int an integer?\", isinstance(num_int, int))\n",
        "\n",
        "# Check if a variable is a float\n",
        "print(\"Is num_float a float?\", isinstance(num_float, float))\n",
        "\n",
        "# Check if a variable is a string\n",
        "print(\"Is text a string?\", isinstance(text, str))"
      ],
      "metadata": {
        "colab": {
          "base_uri": "https://localhost:8080/"
        },
        "id": "_rzaKydpdYvt",
        "outputId": "866f39bc-3699-4fca-8e5e-161d5ba9ff4c"
      },
      "execution_count": null,
      "outputs": [
        {
          "output_type": "stream",
          "name": "stdout",
          "text": [
            "Is num_int an integer? True\n",
            "Is num_float a float? True\n",
            "Is text a string? True\n"
          ]
        }
      ]
    },
    {
      "cell_type": "markdown",
      "source": [
        "5) Demonstrate truthy and falsy values by testing the following with bool():\n",
        "\n",
        "> 0, 1, -10\n",
        "\n",
        "> \"\", \"Hello\"\n",
        "\n",
        "> [], [1, 2, 3]\n",
        "\n",
        "> {}, {\"name\": \"Ali\"}"
      ],
      "metadata": {
        "id": "VMBkz5qqdrcE"
      }
    },
    {
      "cell_type": "code",
      "source": [
        "# Numbers\n",
        "print(\"bool(0):\", bool(0))          # Falsy\n",
        "print(\"bool(1):\", bool(1))          # Truthy\n",
        "print(\"bool(-10):\", bool(-10))      # Truthy\n",
        "\n",
        "# Strings\n",
        "print(\"\\nbool(''):\", bool(\"\"))      # Falsy (empty string)\n",
        "print(\"bool('Hello'):\", bool(\"Hello\"))  # Truthy (non-empty string)\n",
        "\n",
        "# Lists\n",
        "print(\"\\nbool([]):\", bool([]))      # Falsy (empty list)\n",
        "print(\"bool([1, 2, 3]):\", bool([1, 2, 3]))  # Truthy (non-empty list)\n",
        "\n",
        "# Dictionaries\n",
        "print(\"\\nbool({}):\", bool({}))      # Falsy (empty dictionary)\n",
        "print(\"bool({'name': 'Ali'}):\", bool({\"name\": \"Ali\"}))  # Truthy (non-empty dictionary)"
      ],
      "metadata": {
        "colab": {
          "base_uri": "https://localhost:8080/"
        },
        "id": "-vul43Msdr7N",
        "outputId": "a72f4947-025b-4e90-c3ec-191d1ac44c74"
      },
      "execution_count": null,
      "outputs": [
        {
          "output_type": "stream",
          "name": "stdout",
          "text": [
            "bool(0): False\n",
            "bool(1): True\n",
            "bool(-10): True\n",
            "\n",
            "bool(''): False\n",
            "bool('Hello'): True\n",
            "\n",
            "bool([]): False\n",
            "bool([1, 2, 3]): True\n",
            "\n",
            "bool({}): False\n",
            "bool({'name': 'Ali'}): True\n"
          ]
        }
      ]
    },
    {
      "cell_type": "markdown",
      "source": [
        "**Part B – Numeric Types & Operations**"
      ],
      "metadata": {
        "id": "gJp3PDYzd-WM"
      }
    },
    {
      "cell_type": "markdown",
      "source": [
        "6) Create a program that calculates the following for two numbers entered by the user:\n",
        "\n",
        "Addition\n",
        "\n",
        "\n",
        "Subtraction\n",
        "\n",
        "Multiplication\n",
        "\n",
        "Division (regular and floor)\n",
        "\n",
        "Modulus\n",
        "\n",
        "Exponentiation"
      ],
      "metadata": {
        "id": "fmdvmjjReDSi"
      }
    },
    {
      "cell_type": "code",
      "source": [
        "num1: int = int(input(\"Enter the first number: \"))\n",
        "num2: int = int(input(\"Enter the second number: \"))\n",
        "\n",
        "print(f\"\\nAddition: {num1} + {num2} = {num1 + num2}\")\n",
        "print(f\"Subtraction: {num1} - {num2} = {num1 - num2}\")\n",
        "print(f\"Multiplication: {num1} * {num2} = {num1 * num2}\")\n",
        "print(f\"Division (regular): {num1} / {num2} = {num1 / num2}\")\n",
        "print(f\"Division (floor): {num1} // {num2} = {num1 // num2}\")\n",
        "print(f\"Modulus: {num1} % {num2} = {num1 % num2}\")\n",
        "print(f\"Exponentiation: {num1} ** {num2} = {num1 ** num2}\")"
      ],
      "metadata": {
        "colab": {
          "base_uri": "https://localhost:8080/"
        },
        "id": "OnMV913feA8d",
        "outputId": "ccf51f93-5dc5-44b1-9049-f6b884a5018f"
      },
      "execution_count": null,
      "outputs": [
        {
          "output_type": "stream",
          "name": "stdout",
          "text": [
            "Enter the first number: 4\n",
            "Enter the second number: 2\n",
            "\n",
            "Addition: 4 + 2 = 6\n",
            "Subtraction: 4 - 2 = 2\n",
            "Multiplication: 4 * 2 = 8\n",
            "Division (regular): 4 / 2 = 2.0\n",
            "Division (floor): 4 // 2 = 2\n",
            "Modulus: 4 % 2 = 0\n",
            "Exponentiation: 4 ** 2 = 16\n"
          ]
        }
      ]
    },
    {
      "cell_type": "markdown",
      "source": [
        "7) Write a program that demonstrates the difference between / and //:\n",
        "\n",
        "> Divide 17 by 5 using both operators\n",
        "\n",
        "> Show the data type of each result"
      ],
      "metadata": {
        "id": "gDjDrcU4ezqT"
      }
    },
    {
      "cell_type": "code",
      "source": [
        "# Divide 17 by 5 using both operators\n",
        "num1 = 17\n",
        "num2 = 5\n",
        "\n",
        "regular_division = num1 / num2      # Regular division\n",
        "floor_division = num1 // num2       # Floor division\n",
        "\n",
        "# Display the results and their data types\n",
        "print(\"17 / 5 =\", regular_division)\n",
        "print(\"Type of regular_division:\", type(regular_division))\n",
        "\n",
        "print(\"\\n17 // 5 =\", floor_division)\n",
        "print(\"Type of floor_division:\", type(floor_division))"
      ],
      "metadata": {
        "colab": {
          "base_uri": "https://localhost:8080/"
        },
        "id": "vSsuOEjfe4hq",
        "outputId": "63129560-aba9-4d9a-d95f-3ea48397286f"
      },
      "execution_count": null,
      "outputs": [
        {
          "output_type": "stream",
          "name": "stdout",
          "text": [
            "17 / 5 = 3.4\n",
            "Type of regular_division: <class 'float'>\n",
            "\n",
            "17 // 5 = 3\n",
            "Type of floor_division: <class 'int'>\n"
          ]
        }
      ]
    },
    {
      "cell_type": "markdown",
      "source": [
        "8) Create a complex number and demonstrate:\n",
        "\n",
        "> Accessing the real part using .real\n",
        "\n",
        "> Accessing the imaginary part using .imag\n",
        "\n",
        "> Adding two complex numbers"
      ],
      "metadata": {
        "id": "XBlDaiCvfEaL"
      }
    },
    {
      "cell_type": "code",
      "source": [
        "num1 = 4 + 3j\n",
        "\n",
        "# Accessing the real and imaginary parts\n",
        "print(\"Complex number:\", num1)\n",
        "print(\"Real part:\", num1.real)\n",
        "print(\"Imaginary part:\", num1.imag)\n",
        "\n",
        "# Adding two complex numbers\n",
        "num2 = 2 + 5j\n",
        "sum_complex = num1 + num2\n",
        "\n",
        "print(\"\\nSecond complex number:\", num2)\n",
        "print(\"Sum of complex numbers:\", sum_complex)"
      ],
      "metadata": {
        "colab": {
          "base_uri": "https://localhost:8080/"
        },
        "id": "AOQLws7QfObc",
        "outputId": "8690f3c5-64a4-4d75-f33d-c7af50a11eb0"
      },
      "execution_count": null,
      "outputs": [
        {
          "output_type": "stream",
          "name": "stdout",
          "text": [
            "Complex number: (4+3j)\n",
            "Real part: 4.0\n",
            "Imaginary part: 3.0\n",
            "\n",
            "Second complex number: (2+5j)\n",
            "Sum of complex numbers: (6+8j)\n"
          ]
        }
      ]
    },
    {
      "cell_type": "markdown",
      "source": [
        "9) Write a program that uses the modulus operator to determine:\n",
        "\n",
        "> Whether a number is even or odd\n",
        "\n",
        "> The last digit of a number"
      ],
      "metadata": {
        "id": "POl0RkiL7GVE"
      }
    },
    {
      "cell_type": "code",
      "source": [
        "num = int(input(\"Enter a number: \"))\n",
        "\n",
        "# Check if the number is even or odd\n",
        "if num % 2 == 0:\n",
        "    print(f\"{num} is Even\")\n",
        "else:\n",
        "    print(f\"{num} is Odd\")\n",
        "\n",
        "# Find the last digit of the number\n",
        "last_digit = num % 10\n",
        "print(\"Last digit of the number:\", last_digit)"
      ],
      "metadata": {
        "colab": {
          "base_uri": "https://localhost:8080/"
        },
        "id": "PRUO4j_97ItA",
        "outputId": "16866f66-022a-4583-fc4e-220c410c58d7"
      },
      "execution_count": null,
      "outputs": [
        {
          "output_type": "stream",
          "name": "stdout",
          "text": [
            "Enter a number: 19\n",
            "19 is Odd\n",
            "Last digit of the number: 9\n"
          ]
        }
      ]
    },
    {
      "cell_type": "markdown",
      "source": [
        "10) Create a program that converts temperature from Celsius to Fahrenheit using the formula:\n",
        "\n",
        "> F = (C * 9/5) + 32"
      ],
      "metadata": {
        "id": "jjsZRqCn7Z6c"
      }
    },
    {
      "cell_type": "code",
      "source": [
        "# Taking input from the user\n",
        "celsius = float(input(\"Enter temperature in Celsius: \"))\n",
        "\n",
        "# Converting to Fahrenheit\n",
        "fahrenheit = (celsius * 9/5) + 32\n",
        "\n",
        "# Displaying the result\n",
        "print(f\"{celsius}°C is equal to {fahrenheit}°F\")"
      ],
      "metadata": {
        "colab": {
          "base_uri": "https://localhost:8080/"
        },
        "id": "POgTaJ5Y7aXR",
        "outputId": "9d4d8d5f-4167-4e27-b9e0-75928d3b66fd"
      },
      "execution_count": null,
      "outputs": [
        {
          "output_type": "stream",
          "name": "stdout",
          "text": [
            "Enter temperature in Celsius: 37\n",
            "37.0°C is equal to 98.6°F\n"
          ]
        }
      ]
    },
    {
      "cell_type": "markdown",
      "source": [
        "**Part C – Operators & Expressions**"
      ],
      "metadata": {
        "id": "9tteokLU7zUe"
      }
    },
    {
      "cell_type": "markdown",
      "source": [
        "11) Demonstrate all comparison operators with examples:\n",
        "\n",
        "> ==, !=, >, <, >=, <=\n",
        "\n",
        "> Use numbers and show the boolean results"
      ],
      "metadata": {
        "id": "Z9FoUH5T72qx"
      }
    },
    {
      "cell_type": "code",
      "source": [
        "a = 10\n",
        "b = 5\n",
        "\n",
        "print(\"a == b :\", a == b)\n",
        "print(\"a != b :\", a != b)\n",
        "print(\"a > b  :\", a > b)\n",
        "print(\"a < b  :\", a < b)\n",
        "print(\"a >= b :\", a >= b)\n",
        "print(\"a <= b :\", a <= b)"
      ],
      "metadata": {
        "colab": {
          "base_uri": "https://localhost:8080/"
        },
        "id": "2TMk3YG67zqt",
        "outputId": "7b7cbf83-9051-48d7-a9eb-dfd7ec9127eb"
      },
      "execution_count": null,
      "outputs": [
        {
          "output_type": "stream",
          "name": "stdout",
          "text": [
            "a == b : False\n",
            "a != b : True\n",
            "a > b  : True\n",
            "a < b  : False\n",
            "a >= b : True\n",
            "a <= b : False\n"
          ]
        }
      ]
    },
    {
      "cell_type": "markdown",
      "source": [
        "12) Write a program using logical operators (and, or, not):\n",
        "\n",
        "> Check if a number is between 10 and 20\n",
        "\n",
        "> Check if a number is either less than 5 or greater than 15\n",
        "\n",
        "> Use not to reverse a boolean value"
      ],
      "metadata": {
        "id": "ALYXYwZu8IXL"
      }
    },
    {
      "cell_type": "code",
      "source": [
        "num = int(input(\"Enter a number: \"))\n",
        "\n",
        "# Check if number is between 10 and 20\n",
        "print(\"Is the number between 10 and 20?\", num > 10 and num < 20)\n",
        "\n",
        "# Check if number is less than 5 or greater than 15\n",
        "print(\"Is the number less than 5 or greater than 15?\", num < 5 or num > 15)\n",
        "\n",
        "# Use 'not' to reverse a boolean value\n",
        "is_positive = num > 0\n",
        "print(\"Is the number positive?\", is_positive)\n",
        "print(\"After using 'not':\", not is_positive)"
      ],
      "metadata": {
        "colab": {
          "base_uri": "https://localhost:8080/"
        },
        "id": "NnRb6_Uz8M9c",
        "outputId": "e7434eb0-77da-44b3-acdc-4ddc08bbd576"
      },
      "execution_count": null,
      "outputs": [
        {
          "output_type": "stream",
          "name": "stdout",
          "text": [
            "Enter a number: 25\n",
            "Is the number between 10 and 20? False\n",
            "Is the number less than 5 or greater than 15? True\n",
            "Is the number positive? True\n",
            "After using 'not': False\n"
          ]
        }
      ]
    },
    {
      "cell_type": "markdown",
      "source": [
        "13) Create a program demonstrating assignment operators:\n",
        "\n",
        "> Start with x = 10\n",
        "\n",
        "> Use +=, -=, *=, /=, //=\n",
        "\n",
        "> Print the value after each operation"
      ],
      "metadata": {
        "id": "9zm991Wy8dic"
      }
    },
    {
      "cell_type": "code",
      "source": [
        "x = 10\n",
        "print(\"Initial value of x:\", x)\n",
        "\n",
        "x += 5\n",
        "print(\"After x += 5:\", x)\n",
        "\n",
        "x -= 3\n",
        "print(\"After x -= 3:\", x)\n",
        "\n",
        "x *= 2\n",
        "print(\"After x *= 2:\", x)\n",
        "\n",
        "x /= 4\n",
        "print(\"After x /= 4:\", x)\n",
        "\n",
        "x //= 2\n",
        "print(\"After x //= 2:\", x)"
      ],
      "metadata": {
        "colab": {
          "base_uri": "https://localhost:8080/"
        },
        "id": "8smBte1P8idU",
        "outputId": "1d4b95a7-073c-4b88-a077-c9beb693624b"
      },
      "execution_count": null,
      "outputs": [
        {
          "output_type": "stream",
          "name": "stdout",
          "text": [
            "Initial value of x: 10\n",
            "After x += 5: 15\n",
            "After x -= 3: 12\n",
            "After x *= 2: 24\n",
            "After x /= 4: 6.0\n",
            "After x //= 2: 3.0\n"
          ]
        }
      ]
    },
    {
      "cell_type": "markdown",
      "source": [
        "14) Write a program using the walrus operator (:=):\n",
        "\n",
        "> Ask for user input and assign it in an if statement\n",
        "\n",
        "> Example: if (age := int(input(\"Enter age: \"))) >= 18:"
      ],
      "metadata": {
        "id": "By6s6gTG8ruX"
      }
    },
    {
      "cell_type": "code",
      "source": [
        "if (temp := float(input(\"Enter the temperature in °C: \"))) > 30:\n",
        "    print(f\"It's {temp}°C — quite hot outside!\")\n",
        "else:\n",
        "    print(f\"It's {temp}°C — the weather is pleasant.\")"
      ],
      "metadata": {
        "colab": {
          "base_uri": "https://localhost:8080/"
        },
        "id": "x19Q3fbi8yJ5",
        "outputId": "0ea91aaf-cfcd-4011-85b2-3ca5c2af7cd8"
      },
      "execution_count": null,
      "outputs": [
        {
          "output_type": "stream",
          "name": "stdout",
          "text": [
            "Enter the temperature in °C: 34\n",
            "It's 34.0°C — quite hot outside!\n"
          ]
        }
      ]
    },
    {
      "cell_type": "markdown",
      "source": [
        "15) Demonstrate identity operators (is, is not):\n",
        "\n",
        "> Create two lists with same values\n",
        "\n",
        "> Show the difference between == and is\n",
        "\n",
        "> Show id() of both lists"
      ],
      "metadata": {
        "id": "5Kzl3w0v9RO3"
      }
    },
    {
      "cell_type": "code",
      "source": [
        "list1 = [1, 2, 3]\n",
        "list2 = [1, 2, 3]\n",
        "\n",
        "print(\"list1 == list2 :\", list1 == list2)   # Compares values\n",
        "print(\"list1 is list2 :\", list1 is list2)   # Compares memory location\n",
        "print(\"list1 is not list2 :\", list1 is not list2)\n",
        "\n",
        "print(\"\\nid(list1):\", id(list1))\n",
        "print(\"id(list2):\", id(list2))"
      ],
      "metadata": {
        "colab": {
          "base_uri": "https://localhost:8080/"
        },
        "id": "WFIo6U4E9XKH",
        "outputId": "cd706f8b-926c-4e4f-921d-1adc574b9301"
      },
      "execution_count": null,
      "outputs": [
        {
          "output_type": "stream",
          "name": "stdout",
          "text": [
            "list1 == list2 : True\n",
            "list1 is list2 : False\n",
            "list1 is not list2 : True\n",
            "\n",
            "id(list1): 136264164340096\n",
            "id(list2): 136263488979008\n"
          ]
        }
      ]
    },
    {
      "cell_type": "markdown",
      "source": [
        "16) Write a program using membership operators (in, not in):\n",
        "\n",
        "> Check if a number exists in a list\n",
        "\n",
        "> Check if a letter exists in a string\n",
        "\n",
        "> Check if a key exists in a dictionary"
      ],
      "metadata": {
        "id": "Ys-LuJ5g9-Pn"
      }
    },
    {
      "cell_type": "code",
      "source": [
        "# Check if a number exists in a list\n",
        "numbers = [10, 20, 30, 40, 50]\n",
        "print(\"Is 30 in the list?\", 30 in numbers)\n",
        "print(\"Is 100 not in the list?\", 100 not in numbers)\n",
        "\n",
        "# Check if a letter exists in a string\n",
        "text = \"Hello World\"\n",
        "print(\"\\nIs 'H' in the string?\", 'H' in text)\n",
        "print(\"Is 'z' not in the string?\", 'z' not in text)\n",
        "\n",
        "# Check if a key exists in a dictionary\n",
        "student = {\"name\": \"Ali\", \"age\": 20, \"grade\": \"A\"}\n",
        "print(\"\\nIs 'age' a key in the dictionary?\", 'age' in student)\n",
        "print(\"Is 'marks' not a key in the dictionary?\", 'marks' not in student)"
      ],
      "metadata": {
        "colab": {
          "base_uri": "https://localhost:8080/"
        },
        "id": "6PamfKmi9q3Z",
        "outputId": "e150d0a3-f4b8-4610-badf-774ff7b69c81"
      },
      "execution_count": null,
      "outputs": [
        {
          "output_type": "stream",
          "name": "stdout",
          "text": [
            "Is 30 in the list? True\n",
            "Is 100 not in the list? True\n",
            "\n",
            "Is 'H' in the string? True\n",
            "Is 'z' not in the string? True\n",
            "\n",
            "Is 'age' a key in the dictionary? True\n",
            "Is 'marks' not a key in the dictionary? True\n"
          ]
        }
      ]
    },
    {
      "cell_type": "markdown",
      "source": [
        "17) Create a program demonstrating chained comparison operators:\n",
        "\n",
        "> Check if: 10 < x < 20\n",
        "\n",
        "> Check if: 5 <= y <= 15"
      ],
      "metadata": {
        "id": "1LI1ukTy-YBO"
      }
    },
    {
      "cell_type": "code",
      "source": [
        "x = int(input(\"Enter a value for x: \"))\n",
        "y = int(input(\"Enter a value for y: \"))\n",
        "\n",
        "print(\"Is 10 < x < 20 ?\", 10 < x < 20)\n",
        "print(\"Is 5 <= y <= 15 ?\", 5 <= y <= 15)"
      ],
      "metadata": {
        "colab": {
          "base_uri": "https://localhost:8080/"
        },
        "id": "GSwiHlOI-S6A",
        "outputId": "5e4d46de-e1c1-454b-f92e-06c7438c16d9"
      },
      "execution_count": null,
      "outputs": [
        {
          "output_type": "stream",
          "name": "stdout",
          "text": [
            "Enter a value for x: 8\n",
            "Enter a value for y: 5\n",
            "Is 10 < x < 20 ? False\n",
            "Is 5 <= y <= 15 ? True\n"
          ]
        }
      ]
    },
    {
      "cell_type": "markdown",
      "source": [
        "**Part D – Strings & String Methods**"
      ],
      "metadata": {
        "id": "hNIwOtji-raz"
      }
    },
    {
      "cell_type": "markdown",
      "source": [
        "18) Create a multi-line string using triple quotes and print it."
      ],
      "metadata": {
        "id": "zhCfQ_42-rIW"
      }
    },
    {
      "cell_type": "code",
      "source": [
        "message = \"\"\"Hello, Hussain!\n",
        "Welcome to the Python programming world.\n",
        "This is a multi-line string example.\"\"\"\n",
        "\n",
        "print(message)"
      ],
      "metadata": {
        "id": "qzeJX09K-i3o",
        "colab": {
          "base_uri": "https://localhost:8080/"
        },
        "outputId": "91dbda78-9d3e-4e8c-be0f-bf4990051039"
      },
      "execution_count": null,
      "outputs": [
        {
          "output_type": "stream",
          "name": "stdout",
          "text": [
            "Hello, Hussain!\n",
            "Welcome to the Python programming world.\n",
            "This is a multi-line string example.\n"
          ]
        }
      ]
    },
    {
      "cell_type": "markdown",
      "source": [
        "19) Demonstrate escape sequences:\n",
        "\n",
        "> Print a string with a tab (\\t)\n",
        "\n",
        "> Print a string with a newline (\\n)\n",
        "\n",
        "> Print a string with double quotes inside\n",
        "\n",
        "> Print a string with a backslash"
      ],
      "metadata": {
        "id": "kcT47RbK_J56"
      }
    },
    {
      "cell_type": "code",
      "source": [
        "print(\"Hello\\tWorld\")            # Tab\n",
        "print(\"Hello\\nWorld\")            # Newline\n",
        "print(\"He said, \\\"Python is fun!\\\"\")  # Double quotes inside string\n",
        "print(\"This is a backslash: \\\\\")      # Backslash"
      ],
      "metadata": {
        "colab": {
          "base_uri": "https://localhost:8080/"
        },
        "id": "Fk7KNSus_AAQ",
        "outputId": "8016977e-342c-4fcf-e1be-0b942ac8f409"
      },
      "execution_count": null,
      "outputs": [
        {
          "output_type": "stream",
          "name": "stdout",
          "text": [
            "Hello\tWorld\n",
            "Hello\n",
            "World\n",
            "He said, \"Python is fun!\"\n",
            "This is a backslash: \\\n"
          ]
        }
      ]
    },
    {
      "cell_type": "markdown",
      "source": [
        "20) Create a program that uses the following string methods:\n",
        "\n",
        "> .upper() - Convert to uppercase\n",
        "\n",
        "> .lower() - Convert to lowercase\n",
        "\n",
        "> .title() - Convert to title case\n",
        "\n",
        "> .strip() - Remove whitespace\n",
        "\n",
        "> .replace() - Replace a word"
      ],
      "metadata": {
        "id": "hAVu555CCX3_"
      }
    },
    {
      "cell_type": "code",
      "source": [
        "text = \"   python programming is fun!   \"\n",
        "\n",
        "print(\"Original string:\", text)\n",
        "\n",
        "print(\"\\nUppercase:\", text.upper())\n",
        "print(\"Lowercase:\", text.lower())\n",
        "print(\"Title case:\", text.title())\n",
        "print(\"Stripped (no whitespace):\", text.strip())\n",
        "print(\"Replaced 'fun' with 'awesome':\", text.replace(\"fun\", \"awesome\"))"
      ],
      "metadata": {
        "colab": {
          "base_uri": "https://localhost:8080/"
        },
        "id": "y-6MSvXMCTU9",
        "outputId": "081cedf4-d142-4e2f-d79b-7b862d0238c6"
      },
      "execution_count": null,
      "outputs": [
        {
          "output_type": "stream",
          "name": "stdout",
          "text": [
            "Original string:    python programming is fun!   \n",
            "\n",
            "Uppercase:    PYTHON PROGRAMMING IS FUN!   \n",
            "Lowercase:    python programming is fun!   \n",
            "Title case:    Python Programming Is Fun!   \n",
            "Stripped (no whitespace): python programming is fun!\n",
            "Replaced 'fun' with 'awesome':    python programming is awesome!   \n"
          ]
        }
      ]
    },
    {
      "cell_type": "markdown",
      "source": [
        "21) Write a program using string slicing:\n",
        "\n",
        "> Get the first 5 characters\n",
        "\n",
        "> Get the last 5 characters\n",
        "\n",
        "> Get characters from index 2 to 7\n",
        "\n",
        "> Reverse a string using slicing"
      ],
      "metadata": {
        "id": "y850ZZzoCk2v"
      }
    },
    {
      "cell_type": "code",
      "source": [
        "text = \"PythonProgramming\"\n",
        "\n",
        "print(\"Original string:\", text)\n",
        "\n",
        "print(\"\\nFirst 5 characters:\", text[:5])\n",
        "print(\"Last 5 characters:\", text[-5:])\n",
        "print(\"Characters from index 2 to 7:\", text[2:8])\n",
        "print(\"Reversed string:\", text[::-1])"
      ],
      "metadata": {
        "colab": {
          "base_uri": "https://localhost:8080/"
        },
        "id": "4mpW6aH5CwjV",
        "outputId": "c2f4180b-b92b-4f39-fe24-0b080d8fde9d"
      },
      "execution_count": null,
      "outputs": [
        {
          "output_type": "stream",
          "name": "stdout",
          "text": [
            "Original string: PythonProgramming\n",
            "\n",
            "First 5 characters: Pytho\n",
            "Last 5 characters: mming\n",
            "Characters from index 2 to 7: thonPr\n",
            "Reversed string: gnimmargorPnohtyP\n"
          ]
        }
      ]
    },
    {
      "cell_type": "markdown",
      "source": [
        "22) Demonstrate string methods:\n",
        "\n",
        "> .split() - Split a sentence into words\n",
        "\n",
        "> .join() - Join a list of words with a separator\n",
        "\n",
        "> .find() - Find the position of a substring\n",
        "\n",
        "> .count() - Count occurrences of a character"
      ],
      "metadata": {
        "id": "Vi6BHldYC-BK"
      }
    },
    {
      "cell_type": "code",
      "source": [
        "sentence = \"Python is fun and Python is powerful\"\n",
        "\n",
        "# Split the sentence into words\n",
        "words = sentence.split()\n",
        "print(\"Split words:\", words)\n",
        "\n",
        "# Join the words with a hyphen\n",
        "joined_sentence = \"-\".join(words)\n",
        "print(\"Joined with '-':\", joined_sentence)\n",
        "\n",
        "# Find the position of the first occurrence of 'Python'\n",
        "position = sentence.find(\"Python\")\n",
        "print(\"Position of 'Python':\", position)\n",
        "\n",
        "# Count how many times 'Python' appears\n",
        "count_python = sentence.count(\"Python\")\n",
        "print(\"Count of 'Python':\", count_python)"
      ],
      "metadata": {
        "colab": {
          "base_uri": "https://localhost:8080/"
        },
        "id": "sfblwzzLDDys",
        "outputId": "02b33737-b349-48e4-c084-f54955b2987a"
      },
      "execution_count": null,
      "outputs": [
        {
          "output_type": "stream",
          "name": "stdout",
          "text": [
            "Split words: ['Python', 'is', 'fun', 'and', 'Python', 'is', 'powerful']\n",
            "Joined with '-': Python-is-fun-and-Python-is-powerful\n",
            "Position of 'Python': 0\n",
            "Count of 'Python': 2\n"
          ]
        }
      ]
    },
    {
      "cell_type": "markdown",
      "source": [
        "23) Create a program using string formatting:\n",
        "\n",
        "> Use the % operator with %s, %d, %f\n",
        "\n",
        "> Use .format() method\n",
        "\n",
        "> Use f-strings"
      ],
      "metadata": {
        "id": "z_PGW7rhDFFS"
      }
    },
    {
      "cell_type": "code",
      "source": [
        "name = \"Hussain\"\n",
        "age = 21\n",
        "height = 5.9\n",
        "\n",
        "# Using % operator\n",
        "print(\"Using %% operator:\")\n",
        "print(\"Name: %s, Age: %d, Height: %.1f\" % (name, age, height))\n",
        "\n",
        "# Using .format() method\n",
        "print(\"\\nUsing .format() method:\")\n",
        "print(\"Name: {}, Age: {}, Height: {:.1f}\".format(name, age, height))\n",
        "\n",
        "# Using f-strings\n",
        "print(\"\\nUsing f-strings:\")\n",
        "print(f\"Name: {name}, Age: {age}, Height: {height:.1f}\")"
      ],
      "metadata": {
        "colab": {
          "base_uri": "https://localhost:8080/"
        },
        "id": "pQ86ijM5DJd3",
        "outputId": "64c33091-2391-4440-f7fb-744a07c28911"
      },
      "execution_count": null,
      "outputs": [
        {
          "output_type": "stream",
          "name": "stdout",
          "text": [
            "Using %% operator:\n",
            "Name: Hussain, Age: 21, Height: 5.9\n",
            "\n",
            "Using .format() method:\n",
            "Name: Hussain, Age: 21, Height: 5.9\n",
            "\n",
            "Using f-strings:\n",
            "Name: Hussain, Age: 21, Height: 5.9\n"
          ]
        }
      ]
    },
    {
      "cell_type": "markdown",
      "source": [
        "24) Write a program that compares two strings:\n",
        "\n",
        "> Use == to check equality\n",
        "\n",
        "> Use > and < to compare lexicographically\n",
        "\n",
        "> Compare \"apple\" and \"banana\""
      ],
      "metadata": {
        "id": "JdFpAGx2Dmae"
      }
    },
    {
      "cell_type": "code",
      "source": [
        "str1 = \"apple\"\n",
        "str2 = \"banana\"\n",
        "\n",
        "# Check equality\n",
        "print(f\"Is '{str1}' equal to '{str2}'? :\", str1 == str2)\n",
        "\n",
        "# Lexicographical comparison\n",
        "print(f\"Is '{str1}' greater than '{str2}'? :\", str1 > str2)\n",
        "print(f\"Is '{str1}' less than '{str2}'? :\", str1 < str2)"
      ],
      "metadata": {
        "colab": {
          "base_uri": "https://localhost:8080/"
        },
        "id": "H-dU0Nz7DqgS",
        "outputId": "79788c58-1894-4387-9174-a0df2adeee8a"
      },
      "execution_count": null,
      "outputs": [
        {
          "output_type": "stream",
          "name": "stdout",
          "text": [
            "Is 'apple' equal to 'banana'? : False\n",
            "Is 'apple' greater than 'banana'? : False\n",
            "Is 'apple' less than 'banana'? : True\n"
          ]
        }
      ]
    },
    {
      "cell_type": "markdown",
      "source": [
        "25) Demonstrate string repetition:\n",
        "\n",
        "> Multiply a string by an integer\n",
        "\n",
        "> Create a pattern using string repetition (like a row of stars)"
      ],
      "metadata": {
        "id": "_Ql1TM5ADsYf"
      }
    },
    {
      "cell_type": "code",
      "source": [
        "# Multiply a string by an integer\n",
        "text = \"Hello \"\n",
        "repeated_text = text * 3\n",
        "print(\"Repeated string:\", repeated_text)\n",
        "\n",
        "# Create a pattern using string repetition\n",
        "stars = \"*\" * 10\n",
        "print(\"Row of stars:\", stars)"
      ],
      "metadata": {
        "colab": {
          "base_uri": "https://localhost:8080/"
        },
        "id": "TM9l-VziD7JV",
        "outputId": "ec02fc94-cff6-4f38-8b98-038ccadeb0be"
      },
      "execution_count": null,
      "outputs": [
        {
          "output_type": "stream",
          "name": "stdout",
          "text": [
            "Repeated string: Hello Hello Hello \n",
            "Row of stars: **********\n"
          ]
        }
      ]
    },
    {
      "cell_type": "markdown",
      "source": [
        "**Part E – Memory Management & Advanced Concepts**"
      ],
      "metadata": {
        "id": "zStzoH1QEG-w"
      }
    },
    {
      "cell_type": "markdown",
      "source": [
        "26) Write a program demonstrating integer interning:\n",
        "\n",
        "> Create two variables with value 100 (within -5 to 256)\n",
        "\n",
        "> Check if they share the same memory using is\n",
        "\n",
        "> Create two variables with value 1000 (outside interning range)\n",
        "\n",
        "> Check if they share the same memory\n"
      ],
      "metadata": {
        "id": "hSVKsERKELn3"
      }
    },
    {
      "cell_type": "code",
      "source": [
        "# Integers within the interning range (-5 to 256)\n",
        "a = 100\n",
        "b = 100\n",
        "print(\"a = 100, b = 100\")\n",
        "print(\"Do a and b share the same memory? :\", a is b)\n",
        "\n",
        "# Integers outside the interning range\n",
        "x = 1000\n",
        "y = 1000\n",
        "print(\"\\nx = 1000, y = 1000\")\n",
        "print(\"Do x and y share the same memory? :\", x is y)"
      ],
      "metadata": {
        "colab": {
          "base_uri": "https://localhost:8080/"
        },
        "id": "7Zq7L2hHERvJ",
        "outputId": "d56f8781-684b-4113-9b99-f5be765f0c32"
      },
      "execution_count": null,
      "outputs": [
        {
          "output_type": "stream",
          "name": "stdout",
          "text": [
            "a = 100, b = 100\n",
            "Do a and b share the same memory? : True\n",
            "\n",
            "x = 1000, y = 1000\n",
            "Do x and y share the same memory? : False\n"
          ]
        }
      ]
    },
    {
      "cell_type": "markdown",
      "source": [
        "27) Demonstrate string interning and string pool:\n",
        "\n",
        "> Create two variables with the same short string\n",
        "\n",
        "> Check if they share memory using id()\n",
        "\n",
        "> Create two variables with the same long string (>20 chars)\n",
        "\n",
        "> Check if they share memory"
      ],
      "metadata": {
        "id": "Smy0sJ7DEVHZ"
      }
    },
    {
      "cell_type": "code",
      "source": [
        "# Short strings (usually interned)\n",
        "str1 = \"hello\"\n",
        "str2 = \"hello\"\n",
        "print(\"Short strings:\")\n",
        "print(\"str1 id:\", id(str1))\n",
        "print(\"str2 id:\", id(str2))\n",
        "print(\"Do str1 and str2 share the same memory? :\", str1 is str2)\n",
        "\n",
        "# Long strings (usually not interned)\n",
        "long_str1 = \"this is a very long string exceeding twenty chars\"\n",
        "long_str2 = \"this is a very long string exceeding twenty chars\"\n",
        "print(\"\\nLong strings:\")\n",
        "print(\"long_str1 id:\", id(long_str1))\n",
        "print(\"long_str2 id:\", id(long_str2))\n",
        "print(\"Do long_str1 and long_str2 share the same memory? :\", long_str1 is long_str2)"
      ],
      "metadata": {
        "colab": {
          "base_uri": "https://localhost:8080/"
        },
        "id": "deZrhhBhEZPt",
        "outputId": "4bc8de90-5cef-431e-d9c8-cd6b8019f192"
      },
      "execution_count": null,
      "outputs": [
        {
          "output_type": "stream",
          "name": "stdout",
          "text": [
            "Short strings:\n",
            "str1 id: 136264418837824\n",
            "str2 id: 136264418837824\n",
            "Do str1 and str2 share the same memory? : True\n",
            "\n",
            "Long strings:\n",
            "long_str1 id: 136263486608592\n",
            "long_str2 id: 136263486608112\n",
            "Do long_str1 and long_str2 share the same memory? : False\n"
          ]
        }
      ]
    },
    {
      "cell_type": "markdown",
      "source": [
        "28) Write a program using the id() function:\n",
        "\n",
        "> Create a variable\n",
        "\n",
        "> Print its id\n",
        "\n",
        "> Assign the variable to another variable\n",
        "\n",
        "> Print both ids and compare"
      ],
      "metadata": {
        "id": "UxfWqJt9Evaq"
      }
    },
    {
      "cell_type": "code",
      "source": [
        "# Create a variable\n",
        "a = 42\n",
        "print(\"Value of a:\", a)\n",
        "print(\"ID of a:\", id(a))\n",
        "\n",
        "# Assign the variable to another variable\n",
        "b = a\n",
        "print(\"\\nValue of b:\", b)\n",
        "print(\"ID of b:\", id(b))\n",
        "\n",
        "# Compare IDs\n",
        "print(\"\\nDo a and b share the same memory? :\", a is b)"
      ],
      "metadata": {
        "colab": {
          "base_uri": "https://localhost:8080/"
        },
        "id": "PDnZYGsBE3Gh",
        "outputId": "6bf47e34-1c53-4382-a85d-16ccdc992e2b"
      },
      "execution_count": null,
      "outputs": [
        {
          "output_type": "stream",
          "name": "stdout",
          "text": [
            "Value of a: 42\n",
            "ID of a: 11643400\n",
            "\n",
            "Value of b: 42\n",
            "ID of b: 11643400\n",
            "\n",
            "Do a and b share the same memory? : True\n"
          ]
        }
      ]
    },
    {
      "cell_type": "markdown",
      "source": [
        "29) Create a program demonstrating the None type:\n",
        "\n",
        "> Assign None to a variable\n",
        "\n",
        "> Check its type\n",
        "\n",
        "> Use None in a conditional statement\n",
        "\n",
        "> Show that None is a singleton (all None values share the same id)"
      ],
      "metadata": {
        "id": "c0D_1c7SE1pI"
      }
    },
    {
      "cell_type": "code",
      "source": [
        "# Assign None to a variable\n",
        "value = None\n",
        "print(\"Value:\", value)\n",
        "print(\"Type of value:\", type(value))\n",
        "\n",
        "# Use None in a conditional statement\n",
        "if value is None:\n",
        "    print(\"The variable is None\")\n",
        "\n",
        "# Show that None is a singleton\n",
        "another_value = None\n",
        "print(\"\\nID of value:\", id(value))\n",
        "print(\"ID of another_value:\", id(another_value))\n",
        "print(\"Do both share the same memory? :\", value is another_value)"
      ],
      "metadata": {
        "colab": {
          "base_uri": "https://localhost:8080/"
        },
        "id": "feIaR45BE9y_",
        "outputId": "480d1b4d-3685-40f9-8bb9-37d2aebbd1a5"
      },
      "execution_count": null,
      "outputs": [
        {
          "output_type": "stream",
          "name": "stdout",
          "text": [
            "Value: None\n",
            "Type of value: <class 'NoneType'>\n",
            "The variable is None\n",
            "\n",
            "ID of value: 10619872\n",
            "ID of another_value: 10619872\n",
            "Do both share the same memory? : True\n"
          ]
        }
      ]
    },
    {
      "cell_type": "markdown",
      "source": [
        "30) Write a program using isinstance() to validate user input:\n",
        "\n",
        "> Ask for a number\n",
        "\n",
        "> Check if it's an integer or float\n",
        "\n",
        "> Handle string input appropriately"
      ],
      "metadata": {
        "id": "QGBmu72PFBRY"
      }
    },
    {
      "cell_type": "code",
      "source": [
        "user_input = input(\"Enter a number: \")\n",
        "\n",
        "# Try converting to integer\n",
        "try:\n",
        "    num = int(user_input)\n",
        "except ValueError:\n",
        "    # If integer conversion fails, try float\n",
        "    try:\n",
        "        num = float(user_input)\n",
        "    except ValueError:\n",
        "        num = user_input  # Keep as string if neither int nor float\n",
        "\n",
        "# Check type using isinstance()\n",
        "if isinstance(num, int):\n",
        "    print(f\"You entered an integer: {num}\")\n",
        "elif isinstance(num, float):\n",
        "    print(f\"You entered a float: {num}\")\n",
        "else:\n",
        "    print(f\"You did not enter a number. You entered a string: '{num}'\")"
      ],
      "metadata": {
        "colab": {
          "base_uri": "https://localhost:8080/"
        },
        "id": "DhWwpdVWFFyF",
        "outputId": "e3ed7825-1348-4b45-8916-b70a0e97073f"
      },
      "execution_count": null,
      "outputs": [
        {
          "output_type": "stream",
          "name": "stdout",
          "text": [
            "Enter a number: he\n",
            "You did not enter a number. You entered a string: 'he'\n"
          ]
        }
      ]
    },
    {
      "cell_type": "markdown",
      "source": [
        "**Part F – Problem Solving & Logical Thinking**\n",
        "\n",
        "Note: These questions focus on building your problem-solving skills. Think through the logic before coding!"
      ],
      "metadata": {
        "id": "cqTSIK07GFfv"
      }
    },
    {
      "cell_type": "markdown",
      "source": [
        "41) Number Pattern Checker\n",
        "\n",
        "> Ask the user for a number\n",
        "\n",
        "> Check if the number is:\n",
        "\n",
        "> Positive or negative\n",
        "\n",
        "> Even or odd\n",
        "\n",
        "> Divisible by both 3 and 5\n",
        "\n",
        "> Print a detailed message for each condition"
      ],
      "metadata": {
        "id": "SKGgW47OHmHs"
      }
    },
    {
      "cell_type": "code",
      "source": [
        "num = int(input(\"Enter a number: \"))\n",
        "\n",
        "if num > 0:\n",
        "    print(\"The number is Positive.\")\n",
        "elif num < 0:\n",
        "    print(\"The number is Negative.\")\n",
        "else:\n",
        "    print(\"The number is Zero.\")\n",
        "\n",
        "if num % 2 == 0:\n",
        "    print(\"The number is Even.\")\n",
        "else:\n",
        "    print(\"The number is Odd.\")\n",
        "\n",
        "if num % 3 == 0 and num % 5 == 0:\n",
        "    print(\"The number is divisible by both 3 and 5.\")\n",
        "else:\n",
        "    print(\"The number is NOT divisible by both 3 and 5.\")"
      ],
      "metadata": {
        "colab": {
          "base_uri": "https://localhost:8080/"
        },
        "id": "R48XfHSbGRqq",
        "outputId": "e5ef948b-58f3-4e99-e9eb-a8338520231d"
      },
      "execution_count": null,
      "outputs": [
        {
          "output_type": "stream",
          "name": "stdout",
          "text": [
            "Enter a number: -234\n",
            "The number is Negative.\n",
            "The number is Even.\n",
            "The number is NOT divisible by both 3 and 5.\n"
          ]
        }
      ]
    },
    {
      "cell_type": "markdown",
      "source": [
        "42) String Analyzer\n",
        "\n",
        "> Ask the user to enter a sentence\n",
        "\n",
        "> Count and display:\n",
        "\n",
        "> Number of vowels (a, e, i, o, u)\n",
        "\n",
        "> Number of consonants\n",
        "\n",
        "> Number of spaces\n",
        "\n",
        "> Number of digits\n",
        "\n",
        "> Make it case-insensitive"
      ],
      "metadata": {
        "id": "0Gun_KrII30S"
      }
    },
    {
      "cell_type": "code",
      "source": [
        "sentence = input(\"Enter a sentence: \").lower()\n",
        "\n",
        "vowels = \"aeiou\"\n",
        "vowel_count = sum(1 for c in sentence if c in vowels)\n",
        "consonant_count = sum(1 for c in sentence if c.isalpha() and c not in vowels)\n",
        "space_count = sentence.count(\" \")\n",
        "digit_count = sum(1 for c in sentence if c.isdigit())\n",
        "\n",
        "print(\"Vowels:\", vowel_count)\n",
        "print(\"Consonants:\", consonant_count)\n",
        "print(\"Spaces:\", space_count)\n",
        "print(\"Digits:\", digit_count)"
      ],
      "metadata": {
        "colab": {
          "base_uri": "https://localhost:8080/"
        },
        "id": "2qV6t6yKJAoU",
        "outputId": "b13edd83-85c8-48e5-b723-72b9b35ba2a8"
      },
      "execution_count": null,
      "outputs": [
        {
          "output_type": "stream",
          "name": "stdout",
          "text": [
            "Enter a sentence: hi how are You\n",
            "Vowels: 6\n",
            "Consonants: 5\n",
            "Spaces: 3\n",
            "Digits: 0\n"
          ]
        }
      ]
    },
    {
      "cell_type": "markdown",
      "source": [
        "43) Simple Grade Calculator\n",
        "\n",
        "> Ask for marks in 3 subjects\n",
        "\n",
        "> Calculate total and percentage\n",
        "\n",
        "> Assign grade based on percentage:\n",
        "\n",
        "> 90-100: A+\n",
        "\n",
        "> 80-89: A\n",
        "\n",
        "> 70-79: B\n",
        "\n",
        "> 60-69: C\n",
        "\n",
        "> Below 60: F\n",
        "\n",
        ">   Display all information"
      ],
      "metadata": {
        "id": "RsU671a1JwVk"
      }
    },
    {
      "cell_type": "code",
      "source": [
        "marks1 = float(input(\"Enter marks for subject 1: \"))\n",
        "marks2 = float(input(\"Enter marks for subject 2: \"))\n",
        "marks3 = float(input(\"Enter marks for subject 3: \"))\n",
        "\n",
        "total = marks1 + marks2 + marks3\n",
        "percentage = total / 3\n",
        "\n",
        "if percentage >= 90:\n",
        "    grade = \"A+\"\n",
        "elif percentage >= 80:\n",
        "    grade = \"A\"\n",
        "elif percentage >= 70:\n",
        "    grade = \"B\"\n",
        "elif percentage >= 60:\n",
        "    grade = \"C\"\n",
        "else:\n",
        "    grade = \"F\"\n",
        "\n",
        "print(f\"Total Marks: {total}\")\n",
        "print(f\"Percentage: {percentage:.2f}%\")\n",
        "print(f\"Grade: {grade}\")"
      ],
      "metadata": {
        "colab": {
          "base_uri": "https://localhost:8080/"
        },
        "id": "EaBd-8MRJ2RF",
        "outputId": "9eef114e-a1da-41b9-d27b-d0c13f5bba82"
      },
      "execution_count": null,
      "outputs": [
        {
          "output_type": "stream",
          "name": "stdout",
          "text": [
            "Enter marks for subject 1: 89\n",
            "Enter marks for subject 2: 90\n",
            "Enter marks for subject 3: 98\n",
            "Total Marks: 277.0\n",
            "Percentage: 92.33%\n",
            "Grade: A+\n"
          ]
        }
      ]
    },
    {
      "cell_type": "markdown",
      "source": [
        "44) Password Strength Checker\n",
        "\n",
        "> Ask user to create a password\n",
        "\n",
        "> Check if password has:\n",
        "\n",
        "> At least 8 characters\n",
        "\n",
        "> At least one uppercase letter\n",
        "\n",
        "> At least one lowercase letter\n",
        "\n",
        "> At least one digit\n",
        "\n",
        "> At least one special character (@, #, $, etc.)\n",
        "\n",
        "> Give feedback on what's missing"
      ],
      "metadata": {
        "id": "g8Hx7y0XKATX"
      }
    },
    {
      "cell_type": "code",
      "source": [
        "import string\n",
        "\n",
        "password = input(\"Create a password: \")\n",
        "special_chars = \"@#$%^&*()_+!~\"\n",
        "\n",
        "errors = []\n",
        "\n",
        "if len(password) < 8:\n",
        "    errors.append(\"At least 8 characters\")\n",
        "if not any(c.isupper() for c in password):\n",
        "    errors.append(\"At least one uppercase letter\")\n",
        "if not any(c.islower() for c in password):\n",
        "    errors.append(\"At least one lowercase letter\")\n",
        "if not any(c.isdigit() for c in password):\n",
        "    errors.append(\"At least one digit\")\n",
        "if not any(c in special_chars for c in password):\n",
        "    errors.append(\"At least one special character (@, #, $, etc.)\")\n",
        "\n",
        "if not errors:\n",
        "    print(\"Password is strong!\")\n",
        "else:\n",
        "    print(\"Password is weak. Missing:\")\n",
        "    for e in errors:\n",
        "        print(\"-\", e)"
      ],
      "metadata": {
        "colab": {
          "base_uri": "https://localhost:8080/"
        },
        "id": "3kAOiYWpJ4hI",
        "outputId": "8a0f0ccb-9855-4c3e-f7e0-e676fc8f026c"
      },
      "execution_count": null,
      "outputs": [
        {
          "output_type": "stream",
          "name": "stdout",
          "text": [
            "Create a password: Durrani@617\n",
            "Password is strong!\n"
          ]
        }
      ]
    },
    {
      "cell_type": "markdown",
      "source": [
        "45) Number Reverser\n",
        "\n",
        "> Ask user for a number (e.g., 12345)\n",
        "\n",
        "> Reverse the number and display it (54321)\n",
        "\n",
        "> Do this using string operations AND mathematical operations\n",
        "\n",
        "> Show both methods"
      ],
      "metadata": {
        "id": "zbLX6U5PKZJZ"
      }
    },
    {
      "cell_type": "code",
      "source": [
        "num = int(input(\"Enter a number: \"))\n",
        "\n",
        "# Using string\n",
        "reversed_str = str(num)[::-1]\n",
        "print(\"Reversed (string method):\", reversed_str)\n",
        "\n",
        "# Using math\n",
        "temp = num\n",
        "reversed_num = 0\n",
        "while temp > 0:\n",
        "    reversed_num = reversed_num * 10 + temp % 10\n",
        "    temp //= 10\n",
        "print(\"Reversed (math method):\", reversed_num)"
      ],
      "metadata": {
        "colab": {
          "base_uri": "https://localhost:8080/"
        },
        "id": "IEOmeZi4KQbT",
        "outputId": "6c06de7f-4265-4f8b-da3f-666e99c10fc2"
      },
      "execution_count": null,
      "outputs": [
        {
          "output_type": "stream",
          "name": "stdout",
          "text": [
            "Enter a number: 14338\n",
            "Reversed (string method): 83341\n",
            "Reversed (math method): 83341\n"
          ]
        }
      ]
    },
    {
      "cell_type": "markdown",
      "source": [
        "46) Bill Calculator\n",
        "\n",
        "> Ask for the bill amount\n",
        "\n",
        "> Ask for tip percentage (15%, 18%, 20%)\n",
        "\n",
        "> Calculate:\n",
        "\n",
        "> Tip amount\n",
        "\n",
        "> Total amount (bill + tip)\n",
        "\n",
        "> If splitting, ask number of people and show per-person amount"
      ],
      "metadata": {
        "id": "wbAPvH4PKoym"
      }
    },
    {
      "cell_type": "code",
      "source": [
        "bill = float(input(\"Enter bill amount: \"))\n",
        "tip_percent = float(input(\"Enter tip percentage (e.g., 15, 18, 20): \"))\n",
        "\n",
        "tip_amount = bill * tip_percent / 100\n",
        "total_amount = bill + tip_amount\n",
        "\n",
        "print(f\"Tip amount: {tip_amount}\")\n",
        "print(f\"Total amount: {total_amount}\")\n",
        "\n",
        "split = input(\"Split bill? (yes/no): \").lower()\n",
        "if split.lower() == \"yes\" or split.lower() == \"y\":\n",
        "    people = int(input(\"Number of people: \"))\n",
        "    print(f\"Amount per person: {total_amount / people}\")"
      ],
      "metadata": {
        "colab": {
          "base_uri": "https://localhost:8080/"
        },
        "id": "rJsZ-AmiKfHc",
        "outputId": "3f743e4c-fc2d-47f4-fd3b-d4b8f69393a0"
      },
      "execution_count": null,
      "outputs": [
        {
          "output_type": "stream",
          "name": "stdout",
          "text": [
            "Enter bill amount: 1200\n",
            "Enter tip percentage (e.g., 15, 18, 20): 10\n",
            "Tip amount: 120.0\n",
            "Total amount: 1320.0\n",
            "Split bill? (yes/no): y\n",
            "Number of people: 3\n",
            "Amount per person: 440.0\n"
          ]
        }
      ]
    },
    {
      "cell_type": "markdown",
      "source": [
        "47) Email Validator (Basic)\n",
        "\n",
        "> Ask user for an email address\n",
        "\n",
        "> Check if it:\n",
        "\n",
        "> Contains exactly one '@' symbol\n",
        "\n",
        "> Has at least one '.' after the '@'\n",
        "\n",
        "> Doesn't start or end with special characters\n",
        "\n",
        "> Print \"Valid\" or \"Invalid\" with reasons"
      ],
      "metadata": {
        "id": "P6eAq8iKLIo_"
      }
    },
    {
      "cell_type": "code",
      "source": [
        "import string\n",
        "\n",
        "email = input(\"Enter your email: \")\n",
        "\n",
        "valid = True\n",
        "reasons = []\n",
        "\n",
        "if email.count(\"@\") != 1:\n",
        "    valid = False\n",
        "    reasons.append(\"Must contain exactly one '@' symbol\")\n",
        "else:\n",
        "    local, domain = email.split(\"@\")\n",
        "    if \".\" not in domain:\n",
        "        valid = False\n",
        "        reasons.append(\"Must contain at least one '.' after '@'\")\n",
        "\n",
        "if email[0] in string.punctuation or email[-1] in string.punctuation:\n",
        "    valid = False\n",
        "    reasons.append(\"Cannot start or end with special characters\")\n",
        "\n",
        "if valid:\n",
        "    print(\"Valid email\")\n",
        "else:\n",
        "    print(\"Invalid email:\")\n",
        "    for r in reasons:\n",
        "        print(\"-\", r)"
      ],
      "metadata": {
        "colab": {
          "base_uri": "https://localhost:8080/"
        },
        "id": "fXYWMFkRK0aN",
        "outputId": "9efa75ad-2572-4c7c-f21d-26d640a7d8f1"
      },
      "execution_count": null,
      "outputs": [
        {
          "output_type": "stream",
          "name": "stdout",
          "text": [
            "Enter your email: hussaindurrani85@gmail.com\n",
            "Valid email\n"
          ]
        }
      ]
    },
    {
      "cell_type": "markdown",
      "source": [
        "48) Acronym Generator\n",
        "\n",
        "> Ask for a phrase (e.g., \"Application Programming Interface\")\n",
        "\n",
        "> Generate and display the acronym (API)\n",
        "\n",
        "> Make all letters uppercase\n",
        "\n",
        "> Handle multiple spaces properly"
      ],
      "metadata": {
        "id": "eDxBQlM2LTek"
      }
    },
    {
      "cell_type": "code",
      "source": [
        "phrase = input(\"Enter a phrase: \").upper().split()\n",
        "acronym = \"\".join(word[0] for word in phrase if word)\n",
        "print(\"Acronym:\", acronym)"
      ],
      "metadata": {
        "colab": {
          "base_uri": "https://localhost:8080/"
        },
        "id": "_h8uNG9aLYrA",
        "outputId": "764b610c-3a33-4087-f7df-51560577820e"
      },
      "execution_count": null,
      "outputs": [
        {
          "output_type": "stream",
          "name": "stdout",
          "text": [
            "Enter a phrase: Agentic AI Development\n",
            "Acronym: AAD\n"
          ]
        }
      ]
    },
    {
      "cell_type": "markdown",
      "source": [
        "49) Number Guessing Checker\n",
        "\n",
        "> Set a secret number in your code (e.g., 42)\n",
        "\n",
        "> Ask user to guess\n",
        "\n",
        "> Tell them if their guess is:\n",
        "\n",
        "> Too low\n",
        "\n",
        "> Too high\n",
        "\n",
        "> Correct\n",
        "\n",
        "> Also tell them the difference between their guess and the actual number"
      ],
      "metadata": {
        "id": "-NsBR9DBLjSI"
      }
    },
    {
      "cell_type": "code",
      "source": [
        "import random\n",
        "secret_number = random.randint(0, 100)\n",
        "count: int = 0\n",
        "\n",
        "while True:\n",
        "  guess = int(input(\"Guess the number: \"))\n",
        "\n",
        "  if guess < secret_number:\n",
        "    print(\"Too low\")\n",
        "    print(\"Difference from secret number:\", abs(secret_number - guess))\n",
        "    count = count + 1\n",
        "  elif guess > secret_number:\n",
        "    print(\"Too high\")\n",
        "    print(\"Difference from secret number:\", abs(secret_number - guess))\n",
        "    count = count + 1\n",
        "  else:\n",
        "    print(\"Correct!\")\n",
        "    break\n",
        "\n",
        "print(f\"Your number of attemps were: {count}\")\n",
        "print(\"Difference from secret number:\", abs(secret_number - guess))"
      ],
      "metadata": {
        "colab": {
          "base_uri": "https://localhost:8080/"
        },
        "id": "J1__5cQ-LsPn",
        "outputId": "9970a853-cc75-4fe3-b292-29ec0a71183a"
      },
      "execution_count": null,
      "outputs": [
        {
          "output_type": "stream",
          "name": "stdout",
          "text": [
            "Guess the number: 54\n",
            "Too low\n",
            "Difference from secret number: 19\n",
            "Guess the number: 67\n",
            "Too low\n",
            "Difference from secret number: 6\n",
            "Guess the number: 71\n",
            "Too low\n",
            "Difference from secret number: 2\n",
            "Guess the number: 73\n",
            "Correct!\n",
            "Your number of attemps were: 3\n",
            "Difference from secret number: 0\n"
          ]
        }
      ]
    },
    {
      "cell_type": "markdown",
      "source": [
        "50) Time Converter\n",
        "\n",
        "> Ask for time in seconds\n",
        "\n",
        "> Convert and display in format: \"X hours, Y minutes, Z seconds\"\n",
        "\n",
        "> Example: 3665 seconds = \"1 hour, 1 minute, 5 seconds\""
      ],
      "metadata": {
        "id": "nL0s5mdIM4np"
      }
    },
    {
      "cell_type": "code",
      "source": [
        "seconds = int(input(\"Enter time in seconds: \"))\n",
        "\n",
        "hours = seconds // 3600\n",
        "minutes = (seconds % 3600) // 60\n",
        "secs = seconds % 60\n",
        "\n",
        "print(f\"{hours} hours, {minutes} minutes, {secs} seconds\")"
      ],
      "metadata": {
        "colab": {
          "base_uri": "https://localhost:8080/"
        },
        "id": "-rynTuNELuXi",
        "outputId": "f9fd7d1f-8c4c-496c-bda4-efcd08eb4a8e"
      },
      "execution_count": null,
      "outputs": [
        {
          "output_type": "stream",
          "name": "stdout",
          "text": [
            "Enter time in seconds: 9876\n",
            "2 hours, 44 minutes, 36 seconds\n"
          ]
        }
      ]
    },
    {
      "cell_type": "markdown",
      "source": [
        "51) Leap Year Checker\n",
        "\n",
        "> Ask for a year\n",
        "\n",
        "> Determine if it's a leap year using the rules:\n",
        "\n",
        " >Divisible by 4 BUT not by 100\n",
        "\n",
        "> OR divisible by 400\n",
        "\n",
        "> Explain why it is or isn't a leap year"
      ],
      "metadata": {
        "id": "NuXpLuwsNMLQ"
      }
    },
    {
      "cell_type": "code",
      "source": [
        "year = int(input(\"Enter a year: \"))\n",
        "\n",
        "if (year % 4 == 0 and year % 100 != 0) or (year % 400 == 0):\n",
        "    print(f\"{year} is a leap year.\")\n",
        "else:\n",
        "    print(f\"{year} is not a leap year.\")"
      ],
      "metadata": {
        "colab": {
          "base_uri": "https://localhost:8080/"
        },
        "id": "Zh-tYwaXNMqx",
        "outputId": "448b8137-178c-4ab8-98a6-8031174061ac"
      },
      "execution_count": null,
      "outputs": [
        {
          "output_type": "stream",
          "name": "stdout",
          "text": [
            "Enter a year: 2025\n",
            "2025 is not a leap year.\n"
          ]
        }
      ]
    },
    {
      "cell_type": "markdown",
      "source": [
        "52) Phone Number Formatter\n",
        "\n",
        "> Ask for a 10-digit phone number (without formatting)\n",
        "\n",
        "> Format it as: (XXX) XXX-XXXX\n",
        "\n",
        "> Validate that exactly 10 digits were entered\n",
        "\n",
        "> Handle spaces and dashes in input"
      ],
      "metadata": {
        "id": "QnE3Cz-TNZWa"
      }
    },
    {
      "cell_type": "code",
      "source": [
        "phone = input(\"Enter a 10-digit phone number: \").replace(\" \", \"\").replace(\"-\", \"\")\n",
        "\n",
        "if len(phone) == 10 and phone.isdigit():\n",
        "    formatted = f\"({phone[:3]}) {phone[3:6]}-{phone[6:]}\"\n",
        "    print(\"Formatted number:\", formatted)\n",
        "else:\n",
        "    print(\"Invalid phone number. Must contain exactly 10 digits.\")"
      ],
      "metadata": {
        "colab": {
          "base_uri": "https://localhost:8080/"
        },
        "id": "cFDGwaCmNeUM",
        "outputId": "b08d85c3-8814-4cb0-c39d-5622e3776a24"
      },
      "execution_count": null,
      "outputs": [
        {
          "output_type": "stream",
          "name": "stdout",
          "text": [
            "Enter a 10-digit phone number: 1234568790\n",
            "Formatted number: (123) 456-8790\n"
          ]
        }
      ]
    },
    {
      "cell_type": "markdown",
      "source": [
        "53) String Compressor\n",
        "\n",
        "> Take a string like \"aaabbbcc\"\n",
        "\n",
        "> Compress it to \"a3b3c2\"\n",
        "\n",
        "> If compressed version is longer, return original"
      ],
      "metadata": {
        "id": "Q9BPMgSpNpwh"
      }
    },
    {
      "cell_type": "code",
      "source": [
        "s = input(\"Enter a string: \")\n",
        "compressed = \"\"\n",
        "count = 1\n",
        "\n",
        "for i in range(1, len(s)+1):\n",
        "    if i < len(s) and s[i] == s[i-1]:\n",
        "        count += 1\n",
        "    else:\n",
        "        compressed += s[i-1] + str(count)\n",
        "        count = 1\n",
        "\n",
        "if len(compressed) < len(s):\n",
        "    print(\"Compressed string:\", compressed)\n",
        "else:\n",
        "    print(\"Original string is shorter or equal:\", s)"
      ],
      "metadata": {
        "colab": {
          "base_uri": "https://localhost:8080/"
        },
        "id": "doW4kCh-NtKf",
        "outputId": "3cb209fa-04a6-47d4-808f-54df6db01643"
      },
      "execution_count": null,
      "outputs": [
        {
          "output_type": "stream",
          "name": "stdout",
          "text": [
            "Enter a string: heeeeeelllllooooo\n",
            "Compressed string: h1e6l5o5\n"
          ]
        }
      ]
    },
    {
      "cell_type": "markdown",
      "source": [
        "54) BMI Calculator with Categories\n",
        "\n",
        "> Ask for weight (kg) and height (meters)\n",
        "\n",
        "> Calculate BMI = weight / (height²)\n",
        "\n",
        "> Categorize:\n",
        "\n",
        "> Below 18.5: Underweight\n",
        "\n",
        "> 18.5-24.9: Normal\n",
        "\n",
        "> 25-29.9: Overweight\n",
        "\n",
        "> 30+: Obese\n",
        "\n",
        "> Display BMI and category"
      ],
      "metadata": {
        "id": "trR8-ICXN_8C"
      }
    },
    {
      "cell_type": "code",
      "source": [
        "weight = float(input(\"Enter weight (kg): \"))\n",
        "height = float(input(\"Enter height (m): \"))\n",
        "\n",
        "bmi = weight / (height ** 2)\n",
        "\n",
        "if bmi < 18.5:\n",
        "    category = \"Underweight\"\n",
        "elif bmi < 25:\n",
        "    category = \"Normal\"\n",
        "elif bmi < 30:\n",
        "    category = \"Overweight\"\n",
        "else:\n",
        "    category = \"Obese\"\n",
        "\n",
        "print(f\"BMI: {bmi:.2f}\")\n",
        "print(\"Category:\", category)"
      ],
      "metadata": {
        "colab": {
          "base_uri": "https://localhost:8080/"
        },
        "id": "_n6TJ2y-OX3-",
        "outputId": "9d0e90a7-a27e-45f1-d17b-d65b96e6e954"
      },
      "execution_count": null,
      "outputs": [
        {
          "output_type": "stream",
          "name": "stdout",
          "text": [
            "Enter weight (kg): 47\n",
            "Enter height (m): 3\n",
            "BMI: 5.22\n",
            "Category: Underweight\n"
          ]
        }
      ]
    },
    {
      "cell_type": "markdown",
      "source": [
        "55) Caesar Cipher (Basic)\n",
        "\n",
        "> Ask for a word and a shift number\n",
        "\n",
        "> Shift each letter by that number in the alphabet\n",
        "\n",
        "> Example: \"abc\" with shift 1 becomes \"bcd\"\n",
        "\n",
        "> Handle only lowercase letters"
      ],
      "metadata": {
        "id": "NUZx7VRMOksR"
      }
    },
    {
      "cell_type": "code",
      "source": [
        "word = input(\"Enter a word (lowercase only): \")\n",
        "shift = int(input(\"Enter shift number: \"))\n",
        "\n",
        "cipher = \"\"\n",
        "for c in word:\n",
        "    if c.islower():\n",
        "        cipher += chr((ord(c) - 97 + shift) % 26 + 97)\n",
        "    else:\n",
        "        cipher += c  # Keep non-lowercase unchanged\n",
        "\n",
        "print(\"Ciphered word:\", cipher)"
      ],
      "metadata": {
        "colab": {
          "base_uri": "https://localhost:8080/"
        },
        "id": "TD7EomXiO6r5",
        "outputId": "f5c8d40d-a88e-46d9-fd0a-4468eb01c7af"
      },
      "execution_count": null,
      "outputs": [
        {
          "output_type": "stream",
          "name": "stdout",
          "text": [
            "Enter a word (lowercase only): ali durrani\n",
            "Enter shift number: 1\n",
            "Ciphered word: bmj evssboj\n"
          ]
        }
      ]
    },
    {
      "cell_type": "markdown",
      "source": [
        "56) Shopping Discount Calculator\n",
        "\n",
        "> Ask for original price\n",
        "\n",
        "> Ask for discount percentage\n",
        "\n",
        "> Calculate:\n",
        "\n",
        "> Discount amount\n",
        "\n",
        "> Final price\n",
        "\n",
        "> Amount saved\n",
        "\n",
        "> If final price > 1000, apply additional 5% discount"
      ],
      "metadata": {
        "id": "BvTEgbLxPJBv"
      }
    },
    {
      "cell_type": "code",
      "source": [
        "original_price = float(input(\"Enter original price: \"))\n",
        "discount_percent = float(input(\"Enter discount percentage: \"))\n",
        "\n",
        "discount_amount = original_price * discount_percent / 100\n",
        "final_price = original_price - discount_amount\n",
        "\n",
        "if final_price > 1000:\n",
        "    additional_discount = final_price * 0.05\n",
        "    final_price -= additional_discount\n",
        "    print(f\"Additional 5% discount applied: {additional_discount}\")\n",
        "\n",
        "print(f\"Discount amount: {discount_amount}\")\n",
        "print(f\"Final price: {final_price}\")\n",
        "print(f\"Amount saved: {original_price - final_price}\")"
      ],
      "metadata": {
        "colab": {
          "base_uri": "https://localhost:8080/"
        },
        "id": "5ABu0x-LPT-s",
        "outputId": "4fc74739-ca73-4b7d-d735-861e826e12b1"
      },
      "execution_count": null,
      "outputs": [
        {
          "output_type": "stream",
          "name": "stdout",
          "text": [
            "Enter original price: 999\n",
            "Enter discount percentage: 10\n",
            "Discount amount: 99.9\n",
            "Final price: 899.1\n",
            "Amount saved: 99.89999999999998\n"
          ]
        }
      ]
    },
    {
      "cell_type": "markdown",
      "source": [
        "57) Name Formatter\n",
        "\n",
        "> Ask for full name (may have inconsistent spaces/caps)\n",
        "\n",
        "> Format properly: \"First Last\" with proper capitalization\n",
        "\n",
        "> Remove extra spaces\n",
        "\n",
        "> Example: \" jOhN DOE \" → \"John Doe\""
      ],
      "metadata": {
        "id": "PfqFtCeIPkte"
      }
    },
    {
      "cell_type": "code",
      "source": [
        "full_name = input(\"Enter full name: \").strip()\n",
        "formatted_name = \" \".join(word.capitalize() for word in full_name.split())\n",
        "print(\"Formatted name:\", formatted_name)"
      ],
      "metadata": {
        "colab": {
          "base_uri": "https://localhost:8080/"
        },
        "id": "mz8HWRiZPxox",
        "outputId": "9e3af637-233d-4192-a311-d796f143de7b"
      },
      "execution_count": null,
      "outputs": [
        {
          "output_type": "stream",
          "name": "stdout",
          "text": [
            "Enter full name: hussain durrani\n",
            "Formatted name: Hussain Durrani\n"
          ]
        }
      ]
    },
    {
      "cell_type": "markdown",
      "source": [
        "58) Palindrome Number Checker\n",
        "\n",
        "> Ask for a number\n",
        "\n",
        "> Check if it's a palindrome (reads same forwards/backwards)\n",
        "\n",
        "> Example: 121, 12321 are palindromes; 123 is not"
      ],
      "metadata": {
        "id": "M7aU5qIaP6W2"
      }
    },
    {
      "cell_type": "code",
      "source": [
        "num = input(\"Enter a number: \")\n",
        "\n",
        "if num == num[::-1]:\n",
        "    print(f\"{num} is a palindrome.\")\n",
        "else:\n",
        "    print(f\"{num} is not a palindrome.\")"
      ],
      "metadata": {
        "colab": {
          "base_uri": "https://localhost:8080/"
        },
        "id": "FgEzzjWfP6DS",
        "outputId": "f2974d88-96e7-406c-f25b-42cec186ea61"
      },
      "execution_count": null,
      "outputs": [
        {
          "output_type": "stream",
          "name": "stdout",
          "text": [
            "Enter a number: 585\n",
            "585 is a palindrome.\n"
          ]
        }
      ]
    },
    {
      "cell_type": "markdown",
      "source": [
        "59) Character Frequency Counter\n",
        "\n",
        "> Ask for a word or sentence\n",
        "\n",
        "> Display each unique character and how many times it appears\n",
        "\n",
        "> Ignore spaces\n",
        "\n",
        "> Show in alphabetical order"
      ],
      "metadata": {
        "id": "4JOcjOrlQF4O"
      }
    },
    {
      "cell_type": "code",
      "source": [
        "text = input(\"Enter a word or sentence: \").replace(\" \", \"\").lower()\n",
        "freq = {}\n",
        "\n",
        "for c in text:\n",
        "    freq[c] = freq.get(c, 0) + 1\n",
        "\n",
        "for char in sorted(freq):\n",
        "    print(f\"{char}: {freq[char]}\")"
      ],
      "metadata": {
        "colab": {
          "base_uri": "https://localhost:8080/"
        },
        "id": "mGAGmiiuQGaO",
        "outputId": "793c824a-e656-4398-9687-78bb54f4af62"
      },
      "execution_count": null,
      "outputs": [
        {
          "output_type": "stream",
          "name": "stdout",
          "text": [
            "Enter a word or sentence: word and a sentence\n",
            "a: 2\n",
            "c: 1\n",
            "d: 2\n",
            "e: 3\n",
            "n: 3\n",
            "o: 1\n",
            "r: 1\n",
            "s: 1\n",
            "t: 1\n",
            "w: 1\n"
          ]
        }
      ]
    },
    {
      "cell_type": "markdown",
      "source": [
        "60) Simple Interest vs Compound Interest\n",
        "\n",
        "> Ask for: Principal amount, Rate, Time (years)\n",
        "\n",
        "> Calculate and display both:\n",
        "\n",
        "> Simple Interest: (P × R × T) / 100\n",
        "\n",
        "> Compound Interest: P × (1 + R/100)^T - P\n",
        "\n",
        "> Show the difference between them"
      ],
      "metadata": {
        "id": "_-kIJtV6QVr5"
      }
    },
    {
      "cell_type": "code",
      "source": [
        "P = float(input(\"Enter principal amount: \"))\n",
        "R = float(input(\"Enter rate (%): \"))\n",
        "T = float(input(\"Enter time (years): \"))\n",
        "\n",
        "SI = (P * R * T) / 100\n",
        "CI = P * ((1 + R / 100) ** T) - P\n",
        "\n",
        "print(f\"Simple Interest: {SI}\")\n",
        "print(f\"Compound Interest: {CI}\")\n",
        "print(f\"Difference: {CI - SI}\")"
      ],
      "metadata": {
        "colab": {
          "base_uri": "https://localhost:8080/"
        },
        "id": "kwIJVGlqQVUk",
        "outputId": "b9f2dbf0-3684-434e-e6a5-c823567a3689"
      },
      "execution_count": null,
      "outputs": [
        {
          "output_type": "stream",
          "name": "stdout",
          "text": [
            "Enter principal amount: 100000\n",
            "Enter rate (%): 12\n",
            "Enter time (years): 5\n",
            "Simple Interest: 60000.0\n",
            "Compound Interest: 76234.16832000008\n",
            "Difference: 16234.168320000084\n"
          ]
        }
      ]
    },
    {
      "cell_type": "markdown",
      "source": [
        "***🌟 Bonus Challenge Section (Optional)***"
      ],
      "metadata": {
        "id": "hiV1A7IVQp32"
      }
    },
    {
      "cell_type": "markdown",
      "source": [
        "31) Create a calculator that supports all arithmetic operations and uses the walrus operator for continuous operation until the user types \"exit\"."
      ],
      "metadata": {
        "id": "W4s6oQafQtTl"
      }
    },
    {
      "cell_type": "code",
      "source": [
        "while (expr := input(\"Enter operation (or type 'exit' to quit): \")) != \"exit\":\n",
        "    try:\n",
        "        result = eval(expr)\n",
        "        print(\"Result:\", result)\n",
        "    except Exception as e:\n",
        "        print(\"Error:\", e)"
      ],
      "metadata": {
        "colab": {
          "base_uri": "https://localhost:8080/"
        },
        "id": "0lOhRZrRQwmI",
        "outputId": "cbfe5d06-793c-4f0a-d68a-263583eb7466"
      },
      "execution_count": null,
      "outputs": [
        {
          "name": "stdout",
          "output_type": "stream",
          "text": [
            "Enter operation (or type 'exit' to quit): 78+9\n",
            "Result: 87\n",
            "Enter operation (or type 'exit' to quit): 78-8\n",
            "Result: 70\n",
            "Enter operation (or type 'exit' to quit): 78/5\n",
            "Result: 15.6\n",
            "Enter operation (or type 'exit' to quit): 79*4\n",
            "Result: 316\n",
            "Enter operation (or type 'exit' to quit): exit\n"
          ]
        }
      ]
    },
    {
      "cell_type": "markdown",
      "source": [
        "32) Write a program that demonstrates the difference between shallow copy and deep copy using lists."
      ],
      "metadata": {
        "id": "oVcXPiBJRl1a"
      }
    },
    {
      "cell_type": "code",
      "source": [
        "import copy\n",
        "\n",
        "original = [[1, 2], [3, 4]]\n",
        "shallow = original.copy()\n",
        "deep = copy.deepcopy(original)\n",
        "\n",
        "# Modify original\n",
        "original[0][0] = 99\n",
        "\n",
        "print(\"Original:\", original)\n",
        "print(\"Shallow copy:\", shallow)\n",
        "print(\"Deep copy:\", deep)"
      ],
      "metadata": {
        "colab": {
          "base_uri": "https://localhost:8080/"
        },
        "id": "8GQifVw2Rlgy",
        "outputId": "e9b5f806-907a-416d-82c0-336473819f1e"
      },
      "execution_count": null,
      "outputs": [
        {
          "output_type": "stream",
          "name": "stdout",
          "text": [
            "Original: [[99, 2], [3, 4]]\n",
            "Shallow copy: [[99, 2], [3, 4]]\n",
            "Deep copy: [[1, 2], [3, 4]]\n"
          ]
        }
      ]
    },
    {
      "cell_type": "markdown",
      "source": [
        "33) Create a program that finds all occurrences of a substring in a string and prints their positions."
      ],
      "metadata": {
        "id": "HfIYclIcR6Xb"
      }
    },
    {
      "cell_type": "code",
      "source": [
        "text = input(\"Enter the text: \")\n",
        "sub = input(\"Enter substring to find: \")\n",
        "\n",
        "positions = []\n",
        "start = 0\n",
        "while True:\n",
        "    pos = text.find(sub, start)\n",
        "    if pos == -1:\n",
        "        break\n",
        "    positions.append(pos)\n",
        "    start = pos + 1\n",
        "\n",
        "print(\"Positions:\", positions)"
      ],
      "metadata": {
        "colab": {
          "base_uri": "https://localhost:8080/"
        },
        "id": "DCZ1TYzJR83X",
        "outputId": "6e902476-4e3d-47a9-b292-254ab7c5d721"
      },
      "execution_count": null,
      "outputs": [
        {
          "output_type": "stream",
          "name": "stdout",
          "text": [
            "Enter the text: hello my bro how is it my my friend\n",
            "Enter substring to find: my\n",
            "Positions: [6, 23, 26]\n"
          ]
        }
      ]
    },
    {
      "cell_type": "markdown",
      "source": [
        "34) Write a program that converts a binary string (like \"1010\") to its decimal equivalent without using int() conversion."
      ],
      "metadata": {
        "id": "SNx-zfBFSV5Y"
      }
    },
    {
      "cell_type": "code",
      "source": [
        "binary = input(\"Enter a binary string: \")\n",
        "decimal = 0\n",
        "for i, bit in enumerate(binary[::-1]):\n",
        "    decimal += int(bit) * (2 ** i)\n",
        "\n",
        "print(\"Decimal equivalent:\", decimal)"
      ],
      "metadata": {
        "colab": {
          "base_uri": "https://localhost:8080/"
        },
        "id": "4LGHWMZnSVa7",
        "outputId": "2bd93a92-8d1d-4cda-9f89-467f5a8dcdc1"
      },
      "execution_count": null,
      "outputs": [
        {
          "output_type": "stream",
          "name": "stdout",
          "text": [
            "Enter a binary string: 10011001\n",
            "Decimal equivalent: 153\n"
          ]
        }
      ]
    },
    {
      "cell_type": "markdown",
      "source": [
        "35) Create a program that reverses the words in a sentence but keeps the sentence order the same:\n",
        "\n",
        "> Input: \"Hello World Python\"\n",
        "\n",
        "> Output: \"olleH dlroW nohtyP\""
      ],
      "metadata": {
        "id": "0nmvJSvrShka"
      }
    },
    {
      "cell_type": "code",
      "source": [
        "sentence = input(\"Enter a sentence: \")\n",
        "reversed_words = \" \".join(word[::-1] for word in sentence.split())\n",
        "print(\"Reversed words:\", reversed_words)"
      ],
      "metadata": {
        "colab": {
          "base_uri": "https://localhost:8080/"
        },
        "id": "88dUqKlkSlY4",
        "outputId": "1644f318-f40c-4621-cf4c-6c481d68e0ba"
      },
      "execution_count": null,
      "outputs": [
        {
          "output_type": "stream",
          "name": "stdout",
          "text": [
            "Enter a sentence: hi hussain raza gee\n",
            "Reversed words: ih niassuh azar eeg\n"
          ]
        }
      ]
    },
    {
      "cell_type": "markdown",
      "source": [
        "36) Write a program using the format() function to align text:\n",
        "\n",
        ">Left align\n",
        "\n",
        ">Right align\n",
        "\n",
        ">Center align\n",
        "\n",
        ">Use width of 20 characters"
      ],
      "metadata": {
        "id": "hRqYj_q8SswE"
      }
    },
    {
      "cell_type": "code",
      "source": [
        "text = input(\"Enter a text: \")\n",
        "\n",
        "print(\"Left aligned:   '{:<20}'\".format(text))\n",
        "print(\"Right aligned:  '{:>20}'\".format(text))\n",
        "print(\"Center aligned: '{:^20}'\".format(text))\n"
      ],
      "metadata": {
        "colab": {
          "base_uri": "https://localhost:8080/"
        },
        "id": "CS1KRzzXSseB",
        "outputId": "dc59c25d-70b7-4eb0-d861-a14c72cc0b90"
      },
      "execution_count": null,
      "outputs": [
        {
          "output_type": "stream",
          "name": "stdout",
          "text": [
            "Enter a text: hi hello dea\n",
            "Left aligned:   'hi hello dea        '\n",
            "Right aligned:  '        hi hello dea'\n",
            "Center aligned: '    hi hello dea    '\n"
          ]
        }
      ]
    },
    {
      "cell_type": "markdown",
      "source": [
        "37) Create a program that checks if a string is a palindrome (reads same forwards and backwards) ignoring spaces and case."
      ],
      "metadata": {
        "id": "S6SDBs56S3C1"
      }
    },
    {
      "cell_type": "code",
      "source": [
        "s = input(\"Enter a string: \").replace(\" \", \"\").lower()\n",
        "\n",
        "if s == s[::-1]:\n",
        "    print(\"The string is a palindrome.\")\n",
        "else:\n",
        "    print(\"The string is not a palindrome.\")"
      ],
      "metadata": {
        "colab": {
          "base_uri": "https://localhost:8080/"
        },
        "id": "v09hFAsMS2sq",
        "outputId": "492b56ca-ae42-45f5-d6d5-606e273eeb68"
      },
      "execution_count": null,
      "outputs": [
        {
          "output_type": "stream",
          "name": "stdout",
          "text": [
            "Enter a string: helloolleh\n",
            "The string is a palindrome.\n"
          ]
        }
      ]
    },
    {
      "cell_type": "markdown",
      "source": [
        "38) Write a program that demonstrates all bitwise operators:\n",
        "\n",
        ">AND (&)\n",
        "\n",
        ">OR (|)\n",
        "\n",
        ">XOR (^)\n",
        "\n",
        ">NOT (~)\n",
        "\n",
        ">Left shift (<<)\n",
        "\n",
        ">Right shift (>>)"
      ],
      "metadata": {
        "id": "O3Ya07-ZTBZw"
      }
    },
    {
      "cell_type": "code",
      "source": [
        "a = int(input(\"Enter first integer: \"))\n",
        "b = int(input(\"Enter second integer: \"))\n",
        "\n",
        "print(\"AND (&):\", a & b)\n",
        "print(\"OR (|):\", a | b)\n",
        "print(\"XOR (^):\", a ^ b)\n",
        "print(\"NOT (~a):\", ~a)\n",
        "print(\"Left shift (a << 1):\", a << 1)\n",
        "print(\"Right shift (a >> 1):\", a >> 1)"
      ],
      "metadata": {
        "colab": {
          "base_uri": "https://localhost:8080/"
        },
        "id": "BcM4p0npTBL5",
        "outputId": "15e2f2d4-d87f-48b4-c3ad-81fb54ae4249"
      },
      "execution_count": null,
      "outputs": [
        {
          "output_type": "stream",
          "name": "stdout",
          "text": [
            "Enter first integer: 21\n",
            "Enter second integer: 43\n",
            "AND (&): 1\n",
            "OR (|): 63\n",
            "XOR (^): 62\n",
            "NOT (~a): -22\n",
            "Left shift (a << 1): 42\n",
            "Right shift (a >> 1): 10\n"
          ]
        }
      ]
    },
    {
      "cell_type": "markdown",
      "source": [
        "39) Create a program that swaps two variables:\n",
        "\n",
        ">Using a temporary variable\n",
        "\n",
        ">Without using a temporary variable (Python way)\n",
        "\n",
        ">Using arithmetic operations"
      ],
      "metadata": {
        "id": "93UxzmxATLqW"
      }
    },
    {
      "cell_type": "code",
      "source": [
        "x = int(input(\"Enter first number: \"))\n",
        "y = int(input(\"Enter second number: \"))\n",
        "\n",
        "# Using temp variable\n",
        "temp = x\n",
        "x = y\n",
        "y = temp\n",
        "print(\"Swap using temp variable:\", x, y)\n",
        "\n",
        "# Swap back using Python way\n",
        "x, y = y, x\n",
        "print(\"Swap using Python way:\", x, y)\n",
        "\n",
        "# Swap using arithmetic\n",
        "x = x + y\n",
        "y = x - y\n",
        "x = x - y\n",
        "print(\"Swap using arithmetic:\", x, y)"
      ],
      "metadata": {
        "colab": {
          "base_uri": "https://localhost:8080/"
        },
        "id": "wfocbC5_TLbg",
        "outputId": "043212ea-341b-4035-c3f4-dae75b505185"
      },
      "execution_count": null,
      "outputs": [
        {
          "output_type": "stream",
          "name": "stdout",
          "text": [
            "Enter first number: 23\n",
            "Enter second number: 42\n",
            "Swap using temp variable: 42 23\n",
            "Swap using Python way: 23 42\n",
            "Swap using arithmetic: 42 23\n"
          ]
        }
      ]
    },
    {
      "cell_type": "markdown",
      "source": [
        "40) Write a comprehensive program that takes a paragraph of text and provides statistics:\n",
        "\n",
        ">Total number of characters\n",
        "\n",
        "> Total number of words\n",
        "\n",
        "> Total number of sentences\n",
        "\n",
        "> Most frequent character\n",
        "\n",
        ">Most frequent word\n",
        "\n",
        ">Average word length"
      ],
      "metadata": {
        "id": "Nk8MTJEkTWlS"
      }
    },
    {
      "cell_type": "code",
      "source": [
        "from collections import Counter\n",
        "import string\n",
        "\n",
        "paragraph = input(\"Enter a paragraph: \")\n",
        "\n",
        "# Remove punctuation for words\n",
        "translator = str.maketrans('', '', string.punctuation)\n",
        "words = paragraph.translate(translator).split()\n",
        "\n",
        "char_count = len(paragraph)\n",
        "word_count = len(words)\n",
        "sentence_count = paragraph.count('.') + paragraph.count('!') + paragraph.count('?')\n",
        "\n",
        "most_common_char = Counter(c for c in paragraph if c.isalpha()).most_common(1)[0]\n",
        "most_common_word = Counter(words).most_common(1)[0]\n",
        "average_word_length = sum(len(word) for word in words) / word_count if word_count else 0\n",
        "\n",
        "print(\"Total characters:\", char_count)\n",
        "print(\"Total words:\", word_count)\n",
        "print(\"Total sentences:\", sentence_count)\n",
        "print(\"Most frequent character:\", most_common_char)\n",
        "print(\"Most frequent word:\", most_common_word)\n",
        "print(\"Average word length:\", round(average_word_length, 2))"
      ],
      "metadata": {
        "colab": {
          "base_uri": "https://localhost:8080/"
        },
        "id": "8pgxl17tTWWY",
        "outputId": "ee32372b-670b-490b-91e7-1571657f294d"
      },
      "execution_count": null,
      "outputs": [
        {
          "output_type": "stream",
          "name": "stdout",
          "text": [
            "Enter a paragraph: Hello, my name is Hussain Durrani. How are You?\n",
            "Total characters: 47\n",
            "Total words: 9\n",
            "Total sentences: 2\n",
            "Most frequent character: ('a', 4)\n",
            "Most frequent word: ('Hello', 1)\n",
            "Average word length: 4.0\n"
          ]
        }
      ]
    }
  ]
}