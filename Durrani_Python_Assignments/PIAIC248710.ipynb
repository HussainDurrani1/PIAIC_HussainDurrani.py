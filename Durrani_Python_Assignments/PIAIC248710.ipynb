{
  "nbformat": 4,
  "nbformat_minor": 5,
  "metadata": {
    "colab": {
      "provenance": []
    },
    "language_info": {
      "name": "python"
    },
    "kernelspec": {
      "name": "python3",
      "display_name": "Python 3"
    }
  },
  "cells": [
    {
      "id": "aded84ca",
      "cell_type": "markdown",
      "source": [
        "# 📝 Assignment: Practice with Strings in Python\n",
        "\n",
        "### 📌 Instructions  \n",
        "- Complete this assignment in **Google Colab**.  \n",
        "- Save your file with the name: **`YourPIAICRollNumber.ipynb`** (e.g., `PIAIC12345.ipynb`).  \n",
        "- After completing, **share the Colab link** (make sure the link is accessible).  \n",
        "- Attempt **all questions from Part A–E**.  \n",
        "- The **Bonus Challenge Section** is **optional** – attempt only if you want to explore further.  \n"
      ],
      "metadata": {
        "id": "aded84ca"
      }
    },
    {
      "id": "c0e300ee",
      "cell_type": "markdown",
      "source": [
        "## Part A – Basic String Handling\n",
        "\n",
        "1. Store your name in a variable. Print it in lowercase, uppercase, and title case."
      ],
      "metadata": {
        "id": "c0e300ee"
      }
    },
    {
      "id": "6667ecf1",
      "cell_type": "code",
      "metadata": {
        "id": "6667ecf1",
        "outputId": "2b3afee0-ef42-4eab-b88c-88c92e3cff19",
        "colab": {
          "base_uri": "https://localhost:8080/"
        }
      },
      "execution_count": null,
      "source": [
        "myName: str = \"Hussain Durrani\"\n",
        "print(myName.lower())\n",
        "print(myName.upper())\n",
        "print(myName.title())"
      ],
      "outputs": [
        {
          "output_type": "stream",
          "name": "stdout",
          "text": [
            "hussain durrani\n",
            "HUSSAIN DURRANI\n",
            "Hussain Durrani\n"
          ]
        }
      ]
    },
    {
      "id": "407815e1",
      "cell_type": "markdown",
      "source": [
        "2. Write a program that prints a personalized message (e.g., `Hello Ayesha, would you like to learn Python today?`)."
      ],
      "metadata": {
        "id": "407815e1"
      }
    },
    {
      "id": "d2515a00",
      "cell_type": "code",
      "metadata": {
        "id": "d2515a00",
        "outputId": "45e7d89a-302f-4722-950e-773d0c1f455a",
        "colab": {
          "base_uri": "https://localhost:8080/"
        }
      },
      "execution_count": null,
      "source": [
        "print(f\"Hello {myName}, would you like to learn Python today?\")"
      ],
      "outputs": [
        {
          "output_type": "stream",
          "name": "stdout",
          "text": [
            "Hello Hussain Durrani, would you like to learn Python today?\n"
          ]
        }
      ]
    },
    {
      "id": "ee286432",
      "cell_type": "markdown",
      "source": [
        "3. Store a sentence in a variable. Print it with a tab before it (`\\t`) and a newline before it (`\\n`)."
      ],
      "metadata": {
        "id": "ee286432"
      }
    },
    {
      "id": "12fd7e01",
      "cell_type": "code",
      "metadata": {
        "id": "12fd7e01",
        "outputId": "68df3871-0bd3-4f96-90a5-1b948a95532f",
        "colab": {
          "base_uri": "https://localhost:8080/"
        }
      },
      "execution_count": null,
      "source": [
        "sentence: str = \"This sentence is stored in a variable\"\n",
        "print(f\"\\t{sentence}\\n{sentence}\")\n",
        "\n",
        "print(\"\\nOR\\n\")\n",
        "\n",
        "tabSent: str = \"This sentence has a tab before it.\"\n",
        "print(f\"\\t{tabSent}\")\n",
        "newL_sent: str = \"This sentence has a new line before it.\"\n",
        "print(f\"\\n{newL_sent}\")"
      ],
      "outputs": [
        {
          "output_type": "stream",
          "name": "stdout",
          "text": [
            "\tThis sentence is stored in a variable\n",
            "This sentence is stored in a variable\n",
            "\n",
            "OR\n",
            "\n",
            "\tThis sentence has a tab before it.\n",
            "\n",
            "This sentence has a new line before it.\n"
          ]
        }
      ]
    },
    {
      "id": "0f462d9c",
      "cell_type": "markdown",
      "source": [
        "## Part B – Whitespace and Cleaning\n",
        "\n",
        "4. Save a name with extra spaces (before and after). Show the results of `rstrip()`, `lstrip()`, and `strip()`."
      ],
      "metadata": {
        "id": "0f462d9c"
      }
    },
    {
      "id": "05504af6",
      "cell_type": "code",
      "metadata": {
        "id": "05504af6",
        "outputId": "9636a4a2-ca2b-4b57-f3cf-ba3058fa6ecc",
        "colab": {
          "base_uri": "https://localhost:8080/"
        }
      },
      "execution_count": null,
      "source": [
        "nameWithSpaces: str = \"           Hussain Durrani      \"\n",
        "print(f\"Original:\\n{nameWithSpaces}\\n\")\n",
        "print(nameWithSpaces.rstrip())\n",
        "print(nameWithSpaces.lstrip())\n",
        "print(nameWithSpaces.strip())"
      ],
      "outputs": [
        {
          "output_type": "stream",
          "name": "stdout",
          "text": [
            "Original:\n",
            "           Hussain Durrani      \n",
            "\n",
            "           Hussain Durrani\n",
            "Hussain Durrani      \n",
            "Hussain Durrani\n"
          ]
        }
      ]
    },
    {
      "cell_type": "code",
      "source": [
        "nameWithSpaces: str = \"--------Hussain Durrani-----\"\n",
        "print(f\"Original:\\n{nameWithSpaces}\\n\")\n",
        "print(nameWithSpaces.rstrip(\"-\"))\n",
        "print(nameWithSpaces.lstrip(\"-\"))\n",
        "print(nameWithSpaces.strip(\"-\"))"
      ],
      "metadata": {
        "id": "bU2utG_TvFqh",
        "outputId": "bdf83449-9c74-4177-e781-316f9da7e7d6",
        "colab": {
          "base_uri": "https://localhost:8080/"
        }
      },
      "id": "bU2utG_TvFqh",
      "execution_count": null,
      "outputs": [
        {
          "output_type": "stream",
          "name": "stdout",
          "text": [
            "Original:\n",
            "--------Hussain Durrani-----\n",
            "\n",
            "--------Hussain Durrani\n",
            "Hussain Durrani-----\n",
            "Hussain Durrani\n"
          ]
        }
      ]
    },
    {
      "id": "075e8296",
      "cell_type": "markdown",
      "source": [
        "5. Save the string `'  Python Crash Course  '` in a variable and remove all whitespace before printing it cleanly."
      ],
      "metadata": {
        "id": "075e8296"
      }
    },
    {
      "id": "1aabccd4",
      "cell_type": "code",
      "metadata": {
        "id": "1aabccd4",
        "outputId": "cff73a25-3082-4624-de7c-875df242bd27",
        "colab": {
          "base_uri": "https://localhost:8080/"
        }
      },
      "execution_count": null,
      "source": [
        "courseName: str = \"  Python Crash Course  \"\n",
        "print(courseName.strip())"
      ],
      "outputs": [
        {
          "output_type": "stream",
          "name": "stdout",
          "text": [
            "Python Crash Course\n"
          ]
        }
      ]
    },
    {
      "id": "c426306a",
      "cell_type": "markdown",
      "source": [
        "## Part C – String Combination\n",
        "\n",
        "6. Store a first name and last name in two variables. Join them into one string and print it in a sentence."
      ],
      "metadata": {
        "id": "c426306a"
      }
    },
    {
      "id": "195cbf12",
      "cell_type": "code",
      "metadata": {
        "id": "195cbf12",
        "outputId": "1edb4466-73f3-45ce-d41d-2decd7266cc0",
        "colab": {
          "base_uri": "https://localhost:8080/"
        }
      },
      "execution_count": null,
      "source": [
        "firstName: str = \"Muhammad Hussain\"\n",
        "lastName: str = \"Raza Durrani\"\n",
        "fullName: str = firstName + \" \" + lastName\n",
        "print(f\"My full name is \\\"{fullName}\\\".\")"
      ],
      "outputs": [
        {
          "output_type": "stream",
          "name": "stdout",
          "text": [
            "My full name is \"Muhammad Hussain Raza Durrani\".\n"
          ]
        }
      ]
    },
    {
      "id": "e49b475e",
      "cell_type": "markdown",
      "source": [
        "7. Store your favorite quote and author in two variables. Print them like this:\n",
        "```\n",
        "Einstein once said, \"A person who never made a mistake never tried anything new.\"\n",
        "```"
      ],
      "metadata": {
        "id": "e49b475e"
      }
    },
    {
      "id": "998092bc",
      "cell_type": "code",
      "metadata": {
        "id": "998092bc",
        "outputId": "f0709a45-d50d-446b-923b-df009d762e78",
        "colab": {
          "base_uri": "https://localhost:8080/"
        }
      },
      "execution_count": null,
      "source": [
        "quote: str = \"The only person you are destined to become is the person you decide to be.\"\n",
        "author: str = \"Ralph Waldo Emerson\"\n",
        "print(f\"{author} once said, \\\"{quote}\\\"\")"
      ],
      "outputs": [
        {
          "output_type": "stream",
          "name": "stdout",
          "text": [
            "Ralph Waldo Emerson once said, \"The only person you are destined to become is the person you decide to be.\"\n"
          ]
        }
      ]
    },
    {
      "id": "7804dcf4",
      "cell_type": "markdown",
      "source": [
        "## Part D – String Methods\n",
        "\n",
        "8. Write a program that takes `'PYTHON is fun!'` and prints it in lowercase, uppercase, and title case."
      ],
      "metadata": {
        "id": "7804dcf4"
      }
    },
    {
      "id": "fc74c303",
      "cell_type": "code",
      "metadata": {
        "id": "fc74c303",
        "outputId": "084620f0-dd58-4636-f233-a8e7940cb1cf",
        "colab": {
          "base_uri": "https://localhost:8080/"
        }
      },
      "execution_count": null,
      "source": [
        "string: str = 'PYTHON is fun!'\n",
        "print(string.lower())\n",
        "print(string.upper())\n",
        "print(string.title())"
      ],
      "outputs": [
        {
          "output_type": "stream",
          "name": "stdout",
          "text": [
            "python is fun!\n",
            "PYTHON IS FUN!\n",
            "Python Is Fun!\n"
          ]
        }
      ]
    },
    {
      "id": "d3b8ea8f",
      "cell_type": "markdown",
      "source": [
        "9. Save a filename like `'notes.txt'`. Print it without the `.txt` extension using `.removesuffix()`."
      ],
      "metadata": {
        "id": "d3b8ea8f"
      }
    },
    {
      "id": "a3fda9a3",
      "cell_type": "code",
      "metadata": {
        "id": "a3fda9a3",
        "outputId": "130ff679-e70d-404d-b746-42728a495b00",
        "colab": {
          "base_uri": "https://localhost:8080/"
        }
      },
      "execution_count": null,
      "source": [
        "fileName: str = \"notes.txt\"\n",
        "print(fileName.removesuffix(\".txt\"))"
      ],
      "outputs": [
        {
          "output_type": "stream",
          "name": "stdout",
          "text": [
            "notes\n"
          ]
        }
      ]
    },
    {
      "id": "89e03db4",
      "cell_type": "markdown",
      "source": [
        "10. Store the string `'www.example.com'`. Use `.removeprefix(\"www.\")` to print only `'example.com'`."
      ],
      "metadata": {
        "id": "89e03db4"
      }
    },
    {
      "id": "8362e3e4",
      "cell_type": "code",
      "metadata": {
        "id": "8362e3e4",
        "outputId": "1df649f8-b989-4f33-b40d-ccd883c3540e",
        "colab": {
          "base_uri": "https://localhost:8080/"
        }
      },
      "execution_count": null,
      "source": [
        "link: str = \"www.example.com\"\n",
        "print(link.removeprefix(\"www.\"))"
      ],
      "outputs": [
        {
          "output_type": "stream",
          "name": "stdout",
          "text": [
            "example.com\n"
          ]
        }
      ]
    },
    {
      "id": "5ac641a7",
      "cell_type": "markdown",
      "source": [
        "## Part E – Error Practice\n",
        "\n",
        "11. Write a string with a missing quotation mark (to see the syntax error). Then fix it."
      ],
      "metadata": {
        "id": "5ac641a7"
      }
    },
    {
      "id": "38434554",
      "cell_type": "code",
      "metadata": {
        "id": "38434554",
        "outputId": "164eb35b-2329-4e49-f8f2-5900760dad54",
        "colab": {
          "base_uri": "https://localhost:8080/"
        }
      },
      "execution_count": null,
      "source": [
        "string: str = 'This is a \\'string\\' with a missing quotation mark.'\n",
        "print(string)"
      ],
      "outputs": [
        {
          "output_type": "stream",
          "name": "stdout",
          "text": [
            "This is a 'string' with a missing quotation mark.\n"
          ]
        }
      ]
    },
    {
      "id": "31ca0589",
      "cell_type": "markdown",
      "source": [
        "12. Try printing a variable that was never defined (to see the `NameError`). Then correct it by defining the variable."
      ],
      "metadata": {
        "id": "31ca0589"
      }
    },
    {
      "id": "bca75061",
      "cell_type": "code",
      "metadata": {
        "id": "bca75061",
        "outputId": "dda81613-8c38-4079-871e-5402ca86f941",
        "colab": {
          "base_uri": "https://localhost:8080/"
        }
      },
      "execution_count": null,
      "source": [
        "name = \"Hussain\"\n",
        "print(name)"
      ],
      "outputs": [
        {
          "output_type": "stream",
          "name": "stdout",
          "text": [
            "Hussain\n"
          ]
        }
      ]
    },
    {
      "id": "56e14c4c",
      "cell_type": "markdown",
      "source": [
        "## 🌟 Bonus Challenge Section (Optional)\n",
        "\n",
        "13. Ask the user for their favorite programming language and print it in lowercase, uppercase, and title case."
      ],
      "metadata": {
        "id": "56e14c4c"
      }
    },
    {
      "id": "193469f1",
      "cell_type": "code",
      "metadata": {
        "id": "193469f1",
        "outputId": "3605df32-7eda-40ec-e445-8c2904d8a5b4",
        "colab": {
          "base_uri": "https://localhost:8080/"
        }
      },
      "execution_count": null,
      "source": [
        "programmingLanguage:str = input(\"Enter your favorite programming language: \")\n",
        "print(programmingLanguage.lower())\n",
        "print(programmingLanguage.upper())\n",
        "print(programmingLanguage.title())"
      ],
      "outputs": [
        {
          "output_type": "stream",
          "name": "stdout",
          "text": [
            "Enter your favorite programming language: python\n",
            "python\n",
            "PYTHON\n",
            "Python\n"
          ]
        }
      ]
    },
    {
      "id": "1dca4de9",
      "cell_type": "markdown",
      "source": [
        "14. Take a full name input and print:\n",
        "- First name only\n",
        "- Last name only\n",
        "- Initials (like `J.T.`)."
      ],
      "metadata": {
        "id": "1dca4de9"
      }
    },
    {
      "id": "3e4c40f2",
      "cell_type": "code",
      "metadata": {
        "id": "3e4c40f2",
        "outputId": "b02d5347-b639-44f6-d2dc-6947407a82c8",
        "colab": {
          "base_uri": "https://localhost:8080/"
        }
      },
      "execution_count": null,
      "source": [
        "fullName:str = input(\"Enter your full name: \")\n",
        "print(fullName.split()[0])\n",
        "print(fullName.split()[1])\n",
        "print(f\"{fullName.split()[0][0]}.{fullName.split()[1][0]}.\")"
      ],
      "outputs": [
        {
          "output_type": "stream",
          "name": "stdout",
          "text": [
            "Enter your full name: Hussain Durrani\n",
            "Hussain\n",
            "Durrani\n",
            "H.D.\n"
          ]
        }
      ]
    },
    {
      "id": "bddce042",
      "cell_type": "markdown",
      "source": [
        "15. Store a messy sentence with random spaces and print a cleaned version.\n",
        "- Input: `'   Python   is   awesome!   '` → Output: `'Python is awesome!'`"
      ],
      "metadata": {
        "id": "bddce042"
      }
    },
    {
      "id": "16cd0b91",
      "cell_type": "code",
      "metadata": {
        "id": "16cd0b91",
        "outputId": "6cacbdb0-2fcc-4224-ec5c-09345f1f89c3",
        "colab": {
          "base_uri": "https://localhost:8080/"
        }
      },
      "execution_count": null,
      "source": [
        "input_str:str = \"   Python   is   awesome!   \"\n",
        "print(input_str.strip())\n",
        "\n",
        "cleaned_str = ' '.join(input_str.split())\n",
        "print(cleaned_str)"
      ],
      "outputs": [
        {
          "output_type": "stream",
          "name": "stdout",
          "text": [
            "Python   is   awesome!\n",
            "Python is awesome!\n"
          ]
        }
      ]
    },
    {
      "id": "b63ab00c",
      "cell_type": "markdown",
      "source": [
        "16. Create a program that hides part of an email address for privacy.\n",
        "- Input: `'zaib123@example.com'` → Output: `'za***@example.com'`"
      ],
      "metadata": {
        "id": "b63ab00c"
      }
    },
    {
      "id": "904a9467",
      "cell_type": "code",
      "metadata": {
        "id": "904a9467",
        "outputId": "957b9a88-9d6e-4181-fefd-ceba0df90a9a",
        "colab": {
          "base_uri": "https://localhost:8080/"
        }
      },
      "execution_count": null,
      "source": [
        "email: str = \"hussaindurrani85@gmail.com\"\n",
        "\n",
        "username: str = email[:email.index(\"@\")]\n",
        "domain: str = email[email.index(\"@\"):]\n",
        "\n",
        "print(f\"{username[:4]}*********{domain}\")"
      ],
      "outputs": [
        {
          "output_type": "stream",
          "name": "stdout",
          "text": [
            "huss*********@gmail.com\n"
          ]
        }
      ]
    },
    {
      "id": "72d30b0b",
      "cell_type": "markdown",
      "source": [
        "17. Take a string and print it in a box format using `*`.\n",
        "- Input: `'Hello'`\n",
        "- Output:\n",
        "```\n",
        "******\n",
        "*Hello*\n",
        "******\n",
        "```"
      ],
      "metadata": {
        "id": "72d30b0b"
      }
    },
    {
      "id": "a0aaae96",
      "cell_type": "code",
      "metadata": {
        "id": "a0aaae96",
        "outputId": "88fbf9a3-54b7-4e31-f72d-509ba966d58c",
        "colab": {
          "base_uri": "https://localhost:8080/"
        }
      },
      "execution_count": null,
      "source": [
        "text: str = \"Hello, World!\"\n",
        "border: str = \"*\" * (len(text) + 4)\n",
        "print(border)\n",
        "print(f\"* {text} *\")\n",
        "print(border)"
      ],
      "outputs": [
        {
          "output_type": "stream",
          "name": "stdout",
          "text": [
            "*****************\n",
            "* Hello, World! *\n",
            "*****************\n"
          ]
        }
      ]
    },
    {
      "cell_type": "code",
      "source": [],
      "metadata": {
        "id": "qO4MsHJW1Ocm"
      },
      "id": "qO4MsHJW1Ocm",
      "execution_count": null,
      "outputs": []
    }
  ]
}