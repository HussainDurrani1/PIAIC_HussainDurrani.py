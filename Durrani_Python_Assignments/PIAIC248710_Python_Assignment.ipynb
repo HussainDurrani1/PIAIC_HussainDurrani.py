{
  "nbformat": 4,
  "nbformat_minor": 0,
  "metadata": {
    "colab": {
      "provenance": []
    },
    "kernelspec": {
      "name": "python3",
      "display_name": "Python 3"
    },
    "language_info": {
      "name": "python"
    }
  },
  "cells": [
    {
      "cell_type": "markdown",
      "source": [
        "**Part A – Variables, Data Types & Strings**"
      ],
      "metadata": {
        "id": "ly7RKQ-3V8J1"
      }
    },
    {
      "cell_type": "code",
      "execution_count": null,
      "metadata": {
        "colab": {
          "base_uri": "https://localhost:8080/"
        },
        "id": "NL2CDUbpVQ5Y",
        "outputId": "63713b97-563a-4e85-c78b-a1d29e72f473"
      },
      "outputs": [
        {
          "output_type": "stream",
          "name": "stdout",
          "text": [
            "My name in Uppercase: HUSSAIN DURRANI\n",
            "My name in lowercase: hussain durrani\n",
            "My name in Title: Hussain Durrani\n"
          ]
        }
      ],
      "source": [
        "myName: str = \"Hussain durrani\"\n",
        "print(f\"My name in Uppercase: {myName.upper()}\")\n",
        "print(f\"My name in lowercase: {myName.lower()}\")\n",
        "print(f\"My name in Title: {myName.title()}\")"
      ]
    },
    {
      "cell_type": "code",
      "source": [
        "favNum = int(input(\"Enter your favourite number: \"))\n",
        "print(f\"Your favorite number is {favNum}! That's a great choice!\")"
      ],
      "metadata": {
        "colab": {
          "base_uri": "https://localhost:8080/"
        },
        "id": "Xghav5rnWxFQ",
        "outputId": "2d878564-f4f8-4e94-ed3b-2fb4fb0358d4"
      },
      "execution_count": null,
      "outputs": [
        {
          "output_type": "stream",
          "name": "stdout",
          "text": [
            "Enter your favourite number: 69\n",
            "Your favorite number is 69! That's a great choice!\n"
          ]
        }
      ]
    },
    {
      "cell_type": "code",
      "source": [
        "famous_quote: str = \"You must be the change you wish to see in the world.\"\n",
        "famous_person: str = \"Mahatma Gandhi\"\n",
        "print(f\"{famous_person} once said, \\\"{famous_quote}\\\"\")"
      ],
      "metadata": {
        "colab": {
          "base_uri": "https://localhost:8080/"
        },
        "id": "XKMrPVxTXVXw",
        "outputId": "f6a311ae-819c-4ee2-ea68-9a6734106bd9"
      },
      "execution_count": null,
      "outputs": [
        {
          "output_type": "stream",
          "name": "stdout",
          "text": [
            "Mahatma Gandhi once said, \"You must be the change you wish to see in the world.\"\n"
          ]
        }
      ]
    },
    {
      "cell_type": "code",
      "source": [
        "string:str = input(\"Enter a string: \")\n",
        "print(f\"String without extra spaces: {string.strip()}\")"
      ],
      "metadata": {
        "colab": {
          "base_uri": "https://localhost:8080/"
        },
        "id": "vJ4XX-dPXwMM",
        "outputId": "5ee549db-6ffb-49bd-9872-b4bc765a56b4"
      },
      "execution_count": null,
      "outputs": [
        {
          "output_type": "stream",
          "name": "stdout",
          "text": [
            "Enter a string:              hello world             \n",
            "String without extra spaces: hello world\n"
          ]
        }
      ]
    },
    {
      "cell_type": "code",
      "source": [
        "my_email = \"hussaindurrani@gmail.com\"\n",
        "print(f\"\\n\\t{my_email}\")"
      ],
      "metadata": {
        "colab": {
          "base_uri": "https://localhost:8080/"
        },
        "id": "Hfz-nqbOYFem",
        "outputId": "32208ccb-7cd6-42d4-9d6d-f2e84cce0ad0"
      },
      "execution_count": null,
      "outputs": [
        {
          "output_type": "stream",
          "name": "stdout",
          "text": [
            "\n",
            "\thussaindurrani@gmail.com\n"
          ]
        }
      ]
    },
    {
      "cell_type": "markdown",
      "source": [
        "**Part B – Lists (Intro + Working with Lists)**"
      ],
      "metadata": {
        "id": "wVIhPWh8Y7XG"
      }
    },
    {
      "cell_type": "code",
      "source": [
        "friends = [\"Ali Hamza\", \"Salman\", \"Talha\", \"Shabeer\", \"Ahmad\"]\n",
        "\n",
        "for index, friend in enumerate(friends):\n",
        "    print(f\"{index+1}) \\\"{friend}\\\" is a good friend of mine.\")"
      ],
      "metadata": {
        "colab": {
          "base_uri": "https://localhost:8080/"
        },
        "id": "6e9o2OgJYp6G",
        "outputId": "5fd11f1b-4824-4e40-8530-e82410cdb4c8"
      },
      "execution_count": null,
      "outputs": [
        {
          "output_type": "stream",
          "name": "stdout",
          "text": [
            "1) \"Ali Hamza\" is a good friend of mine.\n",
            "2) \"Salman\" is a good friend of mine.\n",
            "3) \"Talha\" is a good friend of mine.\n",
            "4) \"Shabeer\" is a good friend of mine.\n",
            "5) \"Ahmad\" is a good friend of mine.\n"
          ]
        }
      ]
    },
    {
      "cell_type": "code",
      "source": [
        "numbers: int =  [12, 18, 19, 34, 36, 39, 92, 91, 99, 96]\n",
        "\n",
        "print(f\"First 3 numbers are: {numbers[:3]}\")\n",
        "\n",
        "n = len(numbers)\n",
        "if n % 2 == 1:   # odd length\n",
        "    mid = n // 2\n",
        "    print(numbers[mid-1], numbers[mid], numbers[mid+1])\n",
        "else:            # even length\n",
        "    mid = n // 2 - 1\n",
        "    print(f\"Middle 3 numbers are: {numbers[mid-1:mid+2]}\")\n",
        "\n",
        "print(f\"Last 3 numbers are: {numbers[-3:]}\")"
      ],
      "metadata": {
        "colab": {
          "base_uri": "https://localhost:8080/"
        },
        "id": "NEI503n-ZpUe",
        "outputId": "7aec68c1-315e-4c0e-ed61-a1b2c58013fb"
      },
      "execution_count": null,
      "outputs": [
        {
          "output_type": "stream",
          "name": "stdout",
          "text": [
            "First 3 numbers are: [12, 18, 19]\n",
            "Middle 3 numbers are: [34, 36, 39]\n",
            "Last 3 numbers are: [91, 99, 96]\n"
          ]
        }
      ]
    },
    {
      "cell_type": "code",
      "source": [
        "countries: str = [\"Pakistan\", \"Turkey\", \"China\", \"Germany\", \"America\"]\n",
        "\n",
        "countries.append(input(\"Enter a new country to add in the list: \"))\n",
        "countries.append(input(\"Enter a another country to add in the list: \"))\n",
        "\n",
        "countries.remove(input(\"Enter a country to remove from the list: \"))\n",
        "\n",
        "print(f\"The final list of countries is:\\n{countries}\")\n",
        "print(f\"Size of the list is {len(countries)}\")"
      ],
      "metadata": {
        "colab": {
          "base_uri": "https://localhost:8080/"
        },
        "id": "2VzFG5fdbGCm",
        "outputId": "217fa456-6375-4426-de30-5a8f0d8a480a"
      },
      "execution_count": null,
      "outputs": [
        {
          "output_type": "stream",
          "name": "stdout",
          "text": [
            "Enter a new country to add in the list: Canada\n",
            "Enter a another country to add in the list: France\n",
            "Enter a country to remove from the list: Germany\n",
            "The final list of countries is:\n",
            "['Pakistan', 'Turkey', 'China', 'America', 'Canada', 'France']\n",
            "Size of the list is 6\n"
          ]
        }
      ]
    },
    {
      "cell_type": "code",
      "source": [
        "nums: int = [i for i in range(1, 21)]\n",
        "print(nums)\n",
        "\n",
        "total = sum(nums)\n",
        "minimum = min(nums)\n",
        "maximum = max(nums)\n",
        "average = total / len(nums)\n",
        "\n",
        "print(f\"Sum of all numbers in the list: {total}\")\n",
        "print(f\"Minimum value: {minimum}\")\n",
        "print(f\"Maximum value: {maximum}\")\n",
        "print(f\"Average: {average}\")\n"
      ],
      "metadata": {
        "colab": {
          "base_uri": "https://localhost:8080/"
        },
        "id": "xM9QAKBqs4rJ",
        "outputId": "20318096-2cfc-459a-a0ed-f2c9d7602c6c"
      },
      "execution_count": null,
      "outputs": [
        {
          "output_type": "stream",
          "name": "stdout",
          "text": [
            "[1, 2, 3, 4, 5, 6, 7, 8, 9, 10, 11, 12, 13, 14, 15, 16, 17, 18, 19, 20]\n",
            "Sum of all numbers in the list: 210\n",
            "Minimum value: 1\n",
            "Maximum value: 20\n",
            "Average: 10.5\n"
          ]
        }
      ]
    },
    {
      "cell_type": "code",
      "source": [
        "squares = [x**2 for x in range(1, 11)]\n",
        "print(squares)"
      ],
      "metadata": {
        "colab": {
          "base_uri": "https://localhost:8080/"
        },
        "id": "ovaMyOxfu6XM",
        "outputId": "82c55312-1781-4ed8-f0df-1ecc94e8e136"
      },
      "execution_count": null,
      "outputs": [
        {
          "output_type": "stream",
          "name": "stdout",
          "text": [
            "[1, 4, 9, 16, 25, 36, 49, 64, 81, 100]\n"
          ]
        }
      ]
    },
    {
      "cell_type": "code",
      "source": [
        "colors: str = (\"Black\", \"White\", \"Brown\", \"Yellow\", \"Pink\")\n",
        "\n",
        "for index, color in enumerate(colors):\n",
        "    print(f\"{index+1}) {color}\")"
      ],
      "metadata": {
        "colab": {
          "base_uri": "https://localhost:8080/"
        },
        "id": "ncMhowwRvIKB",
        "outputId": "486f3918-2649-4d5f-f4d6-f477c7d86a63"
      },
      "execution_count": null,
      "outputs": [
        {
          "output_type": "stream",
          "name": "stdout",
          "text": [
            "1) Black\n",
            "2) White\n",
            "3) Brown\n",
            "4) Yellow\n",
            "5) Pink\n"
          ]
        }
      ]
    },
    {
      "cell_type": "code",
      "source": [
        "my_list = [99, \"Hussain\", 6.9, True]\n",
        "\n",
        "for index, item in enumerate(my_list):\n",
        "    print(f\"{index+1}) {item} is a  {type(item)}\")"
      ],
      "metadata": {
        "colab": {
          "base_uri": "https://localhost:8080/"
        },
        "id": "XcRpbkAovfKK",
        "outputId": "3f661509-2974-434a-e618-6432419bb5cf"
      },
      "execution_count": null,
      "outputs": [
        {
          "output_type": "stream",
          "name": "stdout",
          "text": [
            "1) 99 is a  <class 'int'>\n",
            "2) Hussain is a  <class 'str'>\n",
            "3) 6.9 is a  <class 'float'>\n",
            "4) True is a  <class 'bool'>\n"
          ]
        }
      ]
    },
    {
      "cell_type": "markdown",
      "source": [
        "**Part C – If Statements & Decisions**"
      ],
      "metadata": {
        "id": "qTHRrJsPwfyY"
      }
    },
    {
      "cell_type": "code",
      "source": [
        "age = int(input(\"Enter your age: \"))\n",
        "\n",
        "if age <= 0:\n",
        "  print(\"This age is invalid...\")\n",
        "elif age < 13:\n",
        "  print(\"You are a Child.\")\n",
        "elif age >= 13 and age <= 19:\n",
        "  print(\"You are a Teenager.\")\n",
        "elif age >= 20 and age <= 64:\n",
        "  print(\"You are an Adult.\")\n",
        "else:\n",
        "  print(\"You are a Senior.\")"
      ],
      "metadata": {
        "colab": {
          "base_uri": "https://localhost:8080/"
        },
        "id": "EbX1FjEKwYBE",
        "outputId": "e235ce81-184d-4501-974f-a54a90088898"
      },
      "execution_count": null,
      "outputs": [
        {
          "output_type": "stream",
          "name": "stdout",
          "text": [
            "Enter your age: 18\n",
            "You are a Teenager.\n"
          ]
        }
      ]
    },
    {
      "cell_type": "code",
      "source": [
        "usernames = [\"ali\", \"fatima\", \"admin\", \"hassan\", \"zara\"]\n",
        "\n",
        "for user in usernames:\n",
        "    if user == \"admin\":\n",
        "        print(f\"Hello {user}, how are you doing today?\")\n",
        "    else:\n",
        "        print(f\"Hi {user}.\")\n"
      ],
      "metadata": {
        "colab": {
          "base_uri": "https://localhost:8080/"
        },
        "id": "832FMygC1tCP",
        "outputId": "1048371b-0953-420d-ffdd-6d153d569beb"
      },
      "execution_count": null,
      "outputs": [
        {
          "output_type": "stream",
          "name": "stdout",
          "text": [
            "Hi ali.\n",
            "Hi fatima.\n",
            "Hello admin, how are you doing today?\n",
            "Hi hassan.\n",
            "Hi zara.\n"
          ]
        }
      ]
    },
    {
      "cell_type": "code",
      "source": [
        "num = int(input(\"Enter a number: \"))\n",
        "\n",
        "if num % 2 == 0:\n",
        "    print(f\"{num} is an EVEN number.\")\n",
        "else:\n",
        "    print(f\"{num} is an ODD number.\")\n"
      ],
      "metadata": {
        "colab": {
          "base_uri": "https://localhost:8080/"
        },
        "id": "ERljX-ea2UMA",
        "outputId": "d79cd1ee-e29e-424f-d69c-cbe32d2d0f6f"
      },
      "execution_count": null,
      "outputs": [
        {
          "output_type": "stream",
          "name": "stdout",
          "text": [
            "Enter a number: 71\n",
            "71 is an ODD number.\n"
          ]
        }
      ]
    },
    {
      "cell_type": "code",
      "source": [
        "score = int(input(\"Enter your score: \"))\n",
        "\n",
        "if score >= 90:\n",
        "    grade = \"A\"\n",
        "elif score >= 80:\n",
        "    grade = \"B\"\n",
        "elif score >= 70:\n",
        "    grade = \"C\"\n",
        "elif score >= 60:\n",
        "    grade = \"D\"\n",
        "else:\n",
        "    grade = \"F\"\n",
        "\n",
        "print(f\"Your grade is: {grade}\")"
      ],
      "metadata": {
        "colab": {
          "base_uri": "https://localhost:8080/"
        },
        "id": "aV3WgAHJ2mVJ",
        "outputId": "d0910439-440a-4906-8558-f152ff06fcca"
      },
      "execution_count": null,
      "outputs": [
        {
          "output_type": "stream",
          "name": "stdout",
          "text": [
            "Enter your score: 99\n",
            "Your grade is: A\n"
          ]
        }
      ]
    },
    {
      "cell_type": "code",
      "source": [
        "password = input(\"Enter your password: \")\n",
        "n = len(password)\n",
        "\n",
        "while True:\n",
        "  if n < 8:\n",
        "    print(\"Password must be at least 8 characters long.\")\n",
        "  elif '@' not in password and '#' not in password:\n",
        "    print(\"Password must contain '@' or '#'.\")\n",
        "  else:\n",
        "    print(\"Congrats! You have entered a valid Password.\")\n",
        "    break\n",
        "\n",
        "  password = input(\"Enter your password: \")\n",
        "  n = len(password)\n"
      ],
      "metadata": {
        "colab": {
          "base_uri": "https://localhost:8080/"
        },
        "id": "zifxmhZn2zUX",
        "outputId": "a59cb810-4b59-43a0-d6ff-cd08f4da7ada"
      },
      "execution_count": null,
      "outputs": [
        {
          "output_type": "stream",
          "name": "stdout",
          "text": [
            "Enter your password: ali\n",
            "Password must be at least 8 characters long.\n",
            "Enter your password: aliahmadd\n",
            "Password must contain '@' or '#'.\n",
            "Enter your password: ali@ahmad\n",
            "Congrats! You have entered a valid Password.\n"
          ]
        }
      ]
    },
    {
      "cell_type": "code",
      "source": [
        "num = int(input(\"Enter a number: \"))\n",
        "\n",
        "if num > 0:\n",
        "    print(\"The number is positive.\")\n",
        "elif num < 0:\n",
        "    print(\"The number is negative.\")\n",
        "else:\n",
        "    print(\"The number is zero.\")\n"
      ],
      "metadata": {
        "colab": {
          "base_uri": "https://localhost:8080/"
        },
        "id": "V48nuzJS3u8F",
        "outputId": "717e75bc-5a68-4eaf-c044-6e2972e68a6e"
      },
      "execution_count": null,
      "outputs": [
        {
          "output_type": "stream",
          "name": "stdout",
          "text": [
            "Enter a number: 4\n",
            "The number is positive.\n"
          ]
        }
      ]
    },
    {
      "cell_type": "code",
      "source": [
        "year = int(input(\"Enter a year: \"))\n",
        "\n",
        "if (year % 4 == 0 and year % 100 != 0) or (year % 400 == 0):\n",
        "    print(f\"{year} is a leap year.\")\n",
        "else:\n",
        "    print(f\"{year} is not a leap year.\")"
      ],
      "metadata": {
        "colab": {
          "base_uri": "https://localhost:8080/"
        },
        "id": "H8dydC7m4tBG",
        "outputId": "d5a9a71e-b722-4e65-8b9d-3506dcb681bc"
      },
      "execution_count": null,
      "outputs": [
        {
          "output_type": "stream",
          "name": "stdout",
          "text": [
            "Enter a year: 2024\n",
            "2024 is a leap year.\n"
          ]
        }
      ]
    },
    {
      "cell_type": "markdown",
      "source": [
        "**Part D – User Input & While Loops**"
      ],
      "metadata": {
        "id": "8EhIj83k5HoG"
      }
    },
    {
      "cell_type": "code",
      "source": [
        "toppings = []\n",
        "\n",
        "while True:\n",
        "    topping = input(\"Enter a pizza topping (type 'quit' to stop): \")\n",
        "    if \"quit\" in topping.lower():\n",
        "        break\n",
        "    toppings.append(topping)\n",
        "    print(f\"{topping} has been added to your pizza.\")\n",
        "\n",
        "print(\"\\nYour pizza has the following toppings:\")\n",
        "print(toppings)"
      ],
      "metadata": {
        "colab": {
          "base_uri": "https://localhost:8080/"
        },
        "id": "Fry-JivC43o3",
        "outputId": "fed5f7f5-ff70-4919-d3f3-ba6a3d62706b"
      },
      "execution_count": null,
      "outputs": [
        {
          "output_type": "stream",
          "name": "stdout",
          "text": [
            "Enter a pizza topping (type 'quit' to stop): milai boti\n",
            "milai boti has been added to your pizza.\n",
            "Enter a pizza topping (type 'quit' to stop): Tikka\n",
            "Tikka has been added to your pizza.\n",
            "Enter a pizza topping (type 'quit' to stop): qqquittt\n",
            "\n",
            "Your pizza has the following toppings:\n",
            "['milai boti', 'Tikka']\n"
          ]
        }
      ]
    },
    {
      "cell_type": "code",
      "source": [
        "numbers = []\n",
        "\n",
        "while True:\n",
        "    entry = input(\"Enter a number (type 'stop' to finish): \")\n",
        "    if \"stop\" in entry.lower():\n",
        "        break\n",
        "    numbers.append(float(entry))\n",
        "\n",
        "if numbers:  # make sure the list is not empty\n",
        "    average = sum(numbers) / len(numbers)\n",
        "    print(f\"The average of the numbers entered is: {average}\")\n",
        "else:\n",
        "    print(\"No numbers were entered.\")"
      ],
      "metadata": {
        "colab": {
          "base_uri": "https://localhost:8080/"
        },
        "id": "Y8uggA-05brZ",
        "outputId": "ffe2fef9-1cc1-4ee7-dd7f-d3800f396223"
      },
      "execution_count": null,
      "outputs": [
        {
          "output_type": "stream",
          "name": "stdout",
          "text": [
            "Enter a number (type 'stop' to finish): 69\n",
            "Enter a number (type 'stop' to finish): 420\n",
            "Enter a number (type 'stop' to finish): 18\n",
            "Enter a number (type 'stop' to finish): ok stoppp\n",
            "The average of the numbers entered is: 169.0\n"
          ]
        }
      ]
    },
    {
      "cell_type": "code",
      "source": [
        "group_size = int(input(\"How many people are in your group? \"))\n",
        "\n",
        "if group_size > 8:\n",
        "    print(\"You'll have to wait for a table.\")\n",
        "else:\n",
        "    print(\"Your table is ready.\")"
      ],
      "metadata": {
        "colab": {
          "base_uri": "https://localhost:8080/"
        },
        "id": "uJp-DACJ6CR1",
        "outputId": "ee489812-8b0b-458f-8403-d375b21a8ba3"
      },
      "execution_count": null,
      "outputs": [
        {
          "output_type": "stream",
          "name": "stdout",
          "text": [
            "How many people are in your group? 8\n",
            "Your table is ready.\n"
          ]
        }
      ]
    },
    {
      "cell_type": "code",
      "source": [
        "while True:\n",
        "    num1 = input(\"Enter the first number (or type 'exit' to quit): \")\n",
        "    if num1.lower() == \"exit\":\n",
        "        break\n",
        "    num2 = input(\"Enter the second number: \")\n",
        "    operator = input(\"Enter an operator (+, -, *, /): \")\n",
        "\n",
        "    num1 = float(num1)\n",
        "    num2 = float(num2)\n",
        "\n",
        "    if operator == \"+\":\n",
        "        result = num1 + num2\n",
        "    elif operator == \"-\":\n",
        "        result = num1 - num2\n",
        "    elif operator == \"*\":\n",
        "        result = num1 * num2\n",
        "    elif operator == \"/\":\n",
        "        if num2 != 0:\n",
        "            result = num1 / num2\n",
        "        else:\n",
        "            print(\"Cannot divide by zero!\")\n",
        "            continue\n",
        "    else:\n",
        "        print(\"Invalid operator!\")\n",
        "        continue\n",
        "\n",
        "    print(f\"The result is: {result}\")"
      ],
      "metadata": {
        "colab": {
          "base_uri": "https://localhost:8080/"
        },
        "id": "BuY5XuQ26YOr",
        "outputId": "e533fd3d-c5d1-48c0-e775-f02bd87ae153"
      },
      "execution_count": null,
      "outputs": [
        {
          "name": "stdout",
          "output_type": "stream",
          "text": [
            "Enter the first number (or type 'exit' to quit): 43\n",
            "Enter the second number: 51\n",
            "Enter an operator (+, -, *, /): +\n",
            "The result is: 94.0\n",
            "Enter the first number (or type 'exit' to quit): exit\n"
          ]
        }
      ]
    },
    {
      "cell_type": "code",
      "source": [
        "from os import truncate\n",
        "import random\n",
        "\n",
        "num = random.randint(1, 20)\n",
        "attemps = 0\n",
        "guessing = True\n",
        "\n",
        "\n",
        "while guessing:\n",
        "  guess = int(input(\"Guess the number: \"))\n",
        "\n",
        "  if guess > num:\n",
        "    print(\"Too high\")\n",
        "    attemps = attemps + 1\n",
        "  elif guess < num:\n",
        "    print(\"Too low\")\n",
        "    attemps = attemps + 1\n",
        "  else:\n",
        "    print(\"Correct!\")\n",
        "    print(f\"Your total attemps are: {attemps}.\")\n",
        "    guessing = False\n"
      ],
      "metadata": {
        "colab": {
          "base_uri": "https://localhost:8080/"
        },
        "id": "a956R62A6mMQ",
        "outputId": "ae3aaeef-8629-4be9-9cc0-81534e3116f9"
      },
      "execution_count": null,
      "outputs": [
        {
          "output_type": "stream",
          "name": "stdout",
          "text": [
            "Guess the number: 32\n",
            "Too high\n",
            "Guess the number: 12\n",
            "Too high\n",
            "Guess the number: 9\n",
            "Too high\n",
            "Guess the number: 3\n",
            "Too low\n",
            "Guess the number: 5\n",
            "Too low\n",
            "Guess the number: 7\n",
            "Too high\n",
            "Guess the number: 6\n",
            "Correct!\n",
            "Your total attemps are: 6.\n"
          ]
        }
      ]
    },
    {
      "cell_type": "code",
      "source": [
        "while True:\n",
        "    email = input(\"Enter your email address: \")\n",
        "    if \"@\" in email and \".\" in email:\n",
        "        print(f\"Thank you! Your email '{email}' is valid.\")\n",
        "        break\n",
        "    else:\n",
        "        print(\"Invalid email. Please try again.\")"
      ],
      "metadata": {
        "colab": {
          "base_uri": "https://localhost:8080/"
        },
        "id": "pr2VXO9w74Hl",
        "outputId": "c76a82f9-4541-402b-dfcf-74b8e461870b"
      },
      "execution_count": null,
      "outputs": [
        {
          "output_type": "stream",
          "name": "stdout",
          "text": [
            "Enter your email address: hussainraza85#gmail.com\n",
            "Invalid email. Please try again.\n",
            "Enter your email address: hussainraza85@gmail.com\n",
            "Thank you! Your email 'hussainraza85@gmail.com' is valid.\n"
          ]
        }
      ]
    },
    {
      "cell_type": "code",
      "source": [
        "total = 0\n",
        "\n",
        "while True:\n",
        "    num = int(input(\"Enter a number (0 to stop): \"))\n",
        "    if num == 0:\n",
        "        break\n",
        "    total += num\n",
        "\n",
        "print(f\"The sum of all entered numbers is: {total}\")"
      ],
      "metadata": {
        "colab": {
          "base_uri": "https://localhost:8080/"
        },
        "id": "jtBvs6oz8gRx",
        "outputId": "c8086128-7486-4827-8d96-fed88644568b"
      },
      "execution_count": null,
      "outputs": [
        {
          "output_type": "stream",
          "name": "stdout",
          "text": [
            "Enter a number (0 to stop): 32\n",
            "Enter a number (0 to stop): 52\n",
            "Enter a number (0 to stop): 5\n",
            "Enter a number (0 to stop): 0\n",
            "The sum of all entered numbers is: 89\n"
          ]
        }
      ]
    },
    {
      "cell_type": "markdown",
      "source": [
        "**Part E – Data Types & Memory Management**"
      ],
      "metadata": {
        "id": "L_9z1fRq82Nq"
      }
    },
    {
      "cell_type": "code",
      "source": [
        "# Mutable example: list\n",
        "my_list = [1, 2, 3]\n",
        "print(\"Original list:\", my_list)\n",
        "\n",
        "# Modifying the list is allowed\n",
        "my_list[0] = 10\n",
        "my_list.append(4)\n",
        "print(\"Modified list:\", my_list)\n",
        "\n",
        "# Immutable example: tuple\n",
        "my_tuple = (1, 2, 3)\n",
        "print(\"\\nOriginal tuple:\", my_tuple)\n",
        "\n",
        "# Trying to modify a tuple will cause an error\n",
        "# my_tuple[0] = 10    # Uncommenting this line will raise TypeError\n",
        "# my_tuple.append(4)  # Uncommenting this line will also raise AttributeError\n",
        "\n",
        "# Explanation:\n",
        "# - Lists are mutable: you can change, add, or remove elements.\n",
        "# - Tuples are immutable: once created, they cannot be changed.\n"
      ],
      "metadata": {
        "colab": {
          "base_uri": "https://localhost:8080/"
        },
        "id": "sPJnEHAX8wEM",
        "outputId": "842ec1a4-5596-49a7-8902-afc63902ff5a"
      },
      "execution_count": null,
      "outputs": [
        {
          "output_type": "stream",
          "name": "stdout",
          "text": [
            "Original list: [1, 2, 3]\n",
            "Modified list: [10, 2, 3, 4]\n",
            "\n",
            "Original tuple: (1, 2, 3)\n"
          ]
        }
      ]
    },
    {
      "cell_type": "code",
      "source": [
        "# Example with numbers\n",
        "a = 100\n",
        "b = 100\n",
        "\n",
        "print(\"Numbers:\")\n",
        "print(\"a == b:\", a == b)  # True, because the values are equal\n",
        "print(\"a is b:\", a is b)  # True in this case due to Python caching small integers\n",
        "\n",
        "# Larger numbers may behave differently\n",
        "x = 1000\n",
        "y = 1000\n",
        "print(\"x == y:\", x == y)  # True, values are equal\n",
        "print(\"x is y:\", x is y)  # Often False, because different objects in memory\n",
        "\n",
        "print(\"\\nStrings:\")\n",
        "str1 = \"hello\"\n",
        "str2 = \"hello\"\n",
        "print(\"str1 == str2:\", str1 == str2)  # True, same value\n",
        "print(\"str1 is str2:\", str1 is str2)  # True, strings are interned in Python\n",
        "\n",
        "# Creating new string objects\n",
        "str3 = \"\".join([\"he\", \"llo\"])\n",
        "print(\"str1 == str3:\", str1 == str3)  # True, values are equal\n",
        "print(\"str1 is str3:\", str1 is str3)  # False, different objects in memory\n",
        "\n",
        "# Explanation:\n",
        "# '==' checks if the values are equal.\n",
        "# 'is' checks if both variables point to the same object in memory."
      ],
      "metadata": {
        "colab": {
          "base_uri": "https://localhost:8080/"
        },
        "id": "VcQPAu_W9H-D",
        "outputId": "16998cf5-8dc6-48f8-9e70-b18b513bf93a"
      },
      "execution_count": null,
      "outputs": [
        {
          "output_type": "stream",
          "name": "stdout",
          "text": [
            "Numbers:\n",
            "a == b: True\n",
            "a is b: True\n",
            "x == y: True\n",
            "x is y: False\n",
            "\n",
            "Strings:\n",
            "str1 == str2: True\n",
            "str1 is str2: True\n",
            "str1 == str3: True\n",
            "str1 is str3: False\n"
          ]
        }
      ]
    },
    {
      "cell_type": "code",
      "source": [
        "# String to integer\n",
        "str_num = \"123\"\n",
        "int_num = int(str_num)\n",
        "print(int_num, type(int_num))\n",
        "\n",
        "# Integer to string\n",
        "num = 456\n",
        "str_num2 = str(num)\n",
        "print(str_num2, type(str_num2))\n",
        "\n",
        "# String to float\n",
        "str_float = \"3.14\"\n",
        "float_num = float(str_float)\n",
        "print(float_num, type(float_num))"
      ],
      "metadata": {
        "colab": {
          "base_uri": "https://localhost:8080/"
        },
        "id": "hN7wQ1KJ9Xms",
        "outputId": "a76aa00c-ee1b-4c4d-e3fb-5016a3934377"
      },
      "execution_count": null,
      "outputs": [
        {
          "output_type": "stream",
          "name": "stdout",
          "text": [
            "123 <class 'int'>\n",
            "456 <class 'str'>\n",
            "3.14 <class 'float'>\n"
          ]
        }
      ]
    },
    {
      "cell_type": "code",
      "source": [
        "# Original string\n",
        "text = \"Python is fun and powerful\"\n",
        "\n",
        "print(\"Original string:\", text)\n",
        "\n",
        "# 1. split() - splits the string into a list of words based on a separator (default is space)\n",
        "words = text.split()\n",
        "print(\"\\nUsing split():\", words)  # ['Python', 'is', 'fun', 'and', 'powerful']\n",
        "\n",
        "# 2. join() - joins elements of a list into a string with a specified separator\n",
        "joined_text = \"-\".join(words)\n",
        "print(\"\\nUsing join():\", joined_text)  # Python-is-fun-and-powerful\n",
        "\n",
        "# 3. replace() - replaces a substring with another substring\n",
        "replaced_text = text.replace(\"fun\", \"awesome\")\n",
        "print(\"\\nUsing replace():\", replaced_text)  # Python is awesome and powerful\n",
        "\n",
        "# 4. find() - returns the index of the first occurrence of a substring, -1 if not found\n",
        "index_is = text.find(\"is\")\n",
        "print(\"\\nUsing find(\\\"is\\\")\", index_is)  # 7\n",
        "\n",
        "index_java = text.find(\"AI\")\n",
        "print(\"Finding 'AI':\", index_java)  # -1 (not found)\n"
      ],
      "metadata": {
        "colab": {
          "base_uri": "https://localhost:8080/"
        },
        "id": "vSckm-LR9knY",
        "outputId": "03d8d392-2718-425f-9847-5361239945b9"
      },
      "execution_count": null,
      "outputs": [
        {
          "output_type": "stream",
          "name": "stdout",
          "text": [
            "Original string: Python is fun and powerful\n",
            "\n",
            "Using split(): ['Python', 'is', 'fun', 'and', 'powerful']\n",
            "\n",
            "Using join(): Python-is-fun-and-powerful\n",
            "\n",
            "Using replace(): Python is awesome and powerful\n",
            "\n",
            "Using find(\"is\") 7\n",
            "Finding 'AI': -1\n"
          ]
        }
      ]
    },
    {
      "cell_type": "markdown",
      "source": [
        "**🌟 Bonus Challenge Section (Optional)**"
      ],
      "metadata": {
        "id": "u0Fp2fHX-XTN"
      }
    },
    {
      "cell_type": "code",
      "source": [
        "language = input(\"Enter your favorite programming language: \")\n",
        "\n",
        "print(\"Lowercase:\", language.lower())\n",
        "print(\"Uppercase:\", language.upper())\n",
        "print(\"Title case:\", language.title())"
      ],
      "metadata": {
        "colab": {
          "base_uri": "https://localhost:8080/"
        },
        "id": "nirsVWiK-AIk",
        "outputId": "e9a8241f-7ba1-457e-d175-67c9fe8bfb2a"
      },
      "execution_count": null,
      "outputs": [
        {
          "output_type": "stream",
          "name": "stdout",
          "text": [
            "Enter your favorite programming language: python & C++\n",
            "Lowercase: python & c++\n",
            "Uppercase: PYTHON & C++\n",
            "Title case: Python & C++\n"
          ]
        }
      ]
    },
    {
      "cell_type": "code",
      "source": [
        "full_name = input(\"Enter your full name: \")\n",
        "\n",
        "names = full_name.split()  # split into words\n",
        "first_name = names[0]\n",
        "last_name = names[-1]\n",
        "initials = \".\".join([name[0].upper() for name in names]) + \".\"\n",
        "\n",
        "print(\"First name:\", first_name.title())\n",
        "print(\"Last name:\", last_name.title())\n",
        "print(\"Initials:\", initials.title())"
      ],
      "metadata": {
        "colab": {
          "base_uri": "https://localhost:8080/"
        },
        "id": "mpO7V-oB-jv7",
        "outputId": "1776f325-4ee8-4fd0-fe79-59bb4dadb02c"
      },
      "execution_count": null,
      "outputs": [
        {
          "output_type": "stream",
          "name": "stdout",
          "text": [
            "Enter your full name: Hussain Raza durrani\n",
            "First name: Hussain\n",
            "Last name: Durrani\n",
            "Initials: H.R.D.\n"
          ]
        }
      ]
    },
    {
      "cell_type": "code",
      "source": [
        "sentence = \"   Python   is   awesome!   \"\n",
        "cleaned = \" \".join(sentence.split())\n",
        "print(cleaned)"
      ],
      "metadata": {
        "colab": {
          "base_uri": "https://localhost:8080/"
        },
        "id": "nq7-Sxvd-qF4",
        "outputId": "b1ba99bb-61de-4e24-a603-980951852a6b"
      },
      "execution_count": null,
      "outputs": [
        {
          "output_type": "stream",
          "name": "stdout",
          "text": [
            "Python is awesome!\n"
          ]
        }
      ]
    },
    {
      "cell_type": "code",
      "source": [
        "email = input(\"Enter your email: \")\n",
        "username, domain = email.split(\"@\")\n",
        "hidden_email = username[:2] + \"***@\" + domain\n",
        "print(hidden_email)"
      ],
      "metadata": {
        "colab": {
          "base_uri": "https://localhost:8080/"
        },
        "id": "_AZkzdjo_D0W",
        "outputId": "d40ccb43-9a72-4fc4-9a9e-c9294129d636"
      },
      "execution_count": null,
      "outputs": [
        {
          "output_type": "stream",
          "name": "stdout",
          "text": [
            "Enter your email: hussaindurrani85@gmail.com\n",
            "hu***@gmail.com\n"
          ]
        }
      ]
    },
    {
      "cell_type": "code",
      "source": [
        "text = input(\"Enter a string: \")\n",
        "length = len(text) + 2\n",
        "print(\"*\" * length)\n",
        "print(f\"*{text}*\")\n",
        "print(\"*\" * length)"
      ],
      "metadata": {
        "colab": {
          "base_uri": "https://localhost:8080/"
        },
        "id": "fvxCoOmB_Lw1",
        "outputId": "4cc34a03-6641-4cab-ee55-c752e6066de0"
      },
      "execution_count": null,
      "outputs": [
        {
          "output_type": "stream",
          "name": "stdout",
          "text": [
            "Enter a string: hello boy\n",
            "***********\n",
            "*hello boy*\n",
            "***********\n"
          ]
        }
      ]
    },
    {
      "cell_type": "code",
      "source": [
        "num = int(input(\"Enter a number: \"))\n",
        "\n",
        "for i in range(1, 11):\n",
        "    print(f\"{num} x {i} = {num*i}\")"
      ],
      "metadata": {
        "colab": {
          "base_uri": "https://localhost:8080/"
        },
        "id": "K8Rp1bZc_VTK",
        "outputId": "929efe38-1cef-4ff7-bc18-f539ea7154f9"
      },
      "execution_count": null,
      "outputs": [
        {
          "output_type": "stream",
          "name": "stdout",
          "text": [
            "Enter a number: 9\n",
            "9 x 1 = 9\n",
            "9 x 2 = 18\n",
            "9 x 3 = 27\n",
            "9 x 4 = 36\n",
            "9 x 5 = 45\n",
            "9 x 6 = 54\n",
            "9 x 7 = 63\n",
            "9 x 8 = 72\n",
            "9 x 9 = 81\n",
            "9 x 10 = 90\n"
          ]
        }
      ]
    },
    {
      "cell_type": "code",
      "source": [
        "numbers = input(\"Enter numbers separated by spaces: \").split()\n",
        "numbers = [float(n) for n in numbers]\n",
        "\n",
        "print(\"Largest number:\", max(numbers))\n",
        "print(\"Smallest number:\", min(numbers))"
      ],
      "metadata": {
        "colab": {
          "base_uri": "https://localhost:8080/"
        },
        "id": "sVdVr-EA_ZAq",
        "outputId": "c084bf97-2036-412f-af96-889f32247b07"
      },
      "execution_count": null,
      "outputs": [
        {
          "output_type": "stream",
          "name": "stdout",
          "text": [
            "Enter numbers separated by spaces: 8 9 5 7 3 1 2 6 11\n",
            "Largest number: 11.0\n",
            "Smallest number: 1.0\n"
          ]
        }
      ]
    },
    {
      "cell_type": "code",
      "source": [
        "shopping_list = []\n",
        "\n",
        "while True:\n",
        "    print(\"\\nMenu:\")\n",
        "    print(\"1. Add item\")\n",
        "    print(\"2. Remove item\")\n",
        "    print(\"3. View list\")\n",
        "    print(\"4. Exit\")\n",
        "\n",
        "    choice = input(\"Choose an option: \")\n",
        "\n",
        "    if choice == \"1\":\n",
        "        item = input(\"Enter item to add: \")\n",
        "        shopping_list.append(item)\n",
        "        print(f\"{item} added.\")\n",
        "    elif choice == \"2\":\n",
        "        item = input(\"Enter item to remove: \")\n",
        "        if item in shopping_list:\n",
        "            shopping_list.remove(item)\n",
        "            print(f\"{item} removed.\")\n",
        "        else:\n",
        "            print(f\"{item} not in list.\")\n",
        "    elif choice == \"3\":\n",
        "        print(\"Shopping list:\", shopping_list)\n",
        "    elif choice == \"4\":\n",
        "        print(\"Exiting program.\")\n",
        "        break\n",
        "    else:\n",
        "        print(\"Invalid option.\")\n"
      ],
      "metadata": {
        "colab": {
          "base_uri": "https://localhost:8080/"
        },
        "id": "m5CWUuj2_ciU",
        "outputId": "c01db5d6-84d6-46da-90c9-dfc0e1a950fe"
      },
      "execution_count": null,
      "outputs": [
        {
          "output_type": "stream",
          "name": "stdout",
          "text": [
            "\n",
            "Menu:\n",
            "1. Add item\n",
            "2. Remove item\n",
            "3. View list\n",
            "4. Exit\n",
            "Choose an option: 3\n",
            "Shopping list: []\n",
            "\n",
            "Menu:\n",
            "1. Add item\n",
            "2. Remove item\n",
            "3. View list\n",
            "4. Exit\n",
            "Choose an option: 1\n",
            "Enter item to add: Laptop\n",
            "Laptop added.\n",
            "\n",
            "Menu:\n",
            "1. Add item\n",
            "2. Remove item\n",
            "3. View list\n",
            "4. Exit\n",
            "Choose an option: 1\n",
            "Enter item to add: Mobile\n",
            "Mobile added.\n",
            "\n",
            "Menu:\n",
            "1. Add item\n",
            "2. Remove item\n",
            "3. View list\n",
            "4. Exit\n",
            "Choose an option: 1\n",
            "Enter item to add: Air Pods\n",
            "Air Pods added.\n",
            "\n",
            "Menu:\n",
            "1. Add item\n",
            "2. Remove item\n",
            "3. View list\n",
            "4. Exit\n",
            "Choose an option: 3\n",
            "Shopping list: ['Laptop', 'Mobile', 'Air Pods']\n",
            "\n",
            "Menu:\n",
            "1. Add item\n",
            "2. Remove item\n",
            "3. View list\n",
            "4. Exit\n",
            "Choose an option: 2\n",
            "Enter item to remove: Mobile\n",
            "Mobile removed.\n",
            "\n",
            "Menu:\n",
            "1. Add item\n",
            "2. Remove item\n",
            "3. View list\n",
            "4. Exit\n",
            "Choose an option: 3\n",
            "Shopping list: ['Laptop', 'Air Pods']\n",
            "\n",
            "Menu:\n",
            "1. Add item\n",
            "2. Remove item\n",
            "3. View list\n",
            "4. Exit\n",
            "Choose an option: 4\n",
            "Exiting program.\n"
          ]
        }
      ]
    },
    {
      "cell_type": "code",
      "source": [
        "pin = \"1234\"\n",
        "balance = 1000\n",
        "\n",
        "while True:\n",
        "    entered_pin = input(\"Enter your PIN: \")\n",
        "    if entered_pin == pin:\n",
        "        print(\"PIN accepted.\\n\")\n",
        "        break\n",
        "    else:\n",
        "        print(\"Incorrect PIN. Try again.\")\n",
        "\n",
        "while True:\n",
        "    print(\"\\nATM Menu:\")\n",
        "    print(\"1. Check balance\")\n",
        "    print(\"2. Withdraw\")\n",
        "    print(\"3. Deposit\")\n",
        "    print(\"4. Exit\")\n",
        "\n",
        "    choice = input(\"Choose an option: \")\n",
        "\n",
        "    if choice == \"1\":\n",
        "        print(f\"Your balance is: ${balance}\")\n",
        "    elif choice == \"2\":\n",
        "        amount = float(input(\"Enter amount to withdraw: \"))\n",
        "        if amount <= balance:\n",
        "            balance -= amount\n",
        "            print(f\"Withdrawn ${amount}. New balance: ${balance}\")\n",
        "        else:\n",
        "            print(\"Insufficient balance!\")\n",
        "    elif choice == \"3\":\n",
        "        amount = float(input(\"Enter amount to deposit: \"))\n",
        "        balance += amount\n",
        "        print(f\"Deposited ${amount}. New balance: ${balance}\")\n",
        "    elif choice == \"4\":\n",
        "        print(\"Exiting ATM.\")\n",
        "        break\n",
        "    else:\n",
        "        print(\"Invalid option.\")\n"
      ],
      "metadata": {
        "colab": {
          "base_uri": "https://localhost:8080/"
        },
        "id": "KfkvvyZO_h1X",
        "outputId": "1c735ec9-2dd1-4edd-cbb0-4bf9a0191ca1"
      },
      "execution_count": null,
      "outputs": [
        {
          "output_type": "stream",
          "name": "stdout",
          "text": [
            "Enter your PIN: 5646\n",
            "Incorrect PIN. Try again.\n",
            "Enter your PIN: 1234\n",
            "PIN accepted.\n",
            "\n",
            "\n",
            "ATM Menu:\n",
            "1. Check balance\n",
            "2. Withdraw\n",
            "3. Deposit\n",
            "4. Exit\n",
            "Choose an option: 1\n",
            "Your balance is: $1000\n",
            "\n",
            "ATM Menu:\n",
            "1. Check balance\n",
            "2. Withdraw\n",
            "3. Deposit\n",
            "4. Exit\n",
            "Choose an option: 2\n",
            "Enter amount to withdraw: 200\n",
            "Withdrawn $200.0. New balance: $800.0\n",
            "\n",
            "ATM Menu:\n",
            "1. Check balance\n",
            "2. Withdraw\n",
            "3. Deposit\n",
            "4. Exit\n",
            "Choose an option: 1\n",
            "Your balance is: $800.0\n",
            "\n",
            "ATM Menu:\n",
            "1. Check balance\n",
            "2. Withdraw\n",
            "3. Deposit\n",
            "4. Exit\n",
            "Choose an option: 3\n",
            "Enter amount to deposit: 10000009\n",
            "Deposited $10000009.0. New balance: $10000809.0\n",
            "\n",
            "ATM Menu:\n",
            "1. Check balance\n",
            "2. Withdraw\n",
            "3. Deposit\n",
            "4. Exit\n",
            "Choose an option: 4\n",
            "Exiting ATM.\n"
          ]
        }
      ]
    },
    {
      "cell_type": "code",
      "source": [
        "import random\n",
        "import string\n",
        "\n",
        "length = int(input(\"Enter desired password length (at least 8): \"))\n",
        "\n",
        "if length < 8:\n",
        "    length = 8\n",
        "\n",
        "characters = string.ascii_letters + string.digits\n",
        "password = \"\".join(random.choice(characters) for _ in range(length))\n",
        "print(\"Generated password:\", password)"
      ],
      "metadata": {
        "colab": {
          "base_uri": "https://localhost:8080/"
        },
        "id": "AVtWUtMM_0_0",
        "outputId": "5c1aaca0-bd3f-44b6-a9e6-59251ce6949e"
      },
      "execution_count": null,
      "outputs": [
        {
          "output_type": "stream",
          "name": "stdout",
          "text": [
            "Enter desired password length (at least 8): 9\n",
            "Generated password: AVtdivA2M\n"
          ]
        }
      ]
    },
    {
      "cell_type": "code",
      "source": [],
      "metadata": {
        "id": "pmiq2LtrAGyx"
      },
      "execution_count": null,
      "outputs": []
    }
  ]
}